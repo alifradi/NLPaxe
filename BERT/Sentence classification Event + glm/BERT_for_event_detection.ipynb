{
  "nbformat": 4,
  "nbformat_minor": 0,
  "metadata": {
    "colab": {
      "name": "BERT for event detection.ipynb",
      "provenance": []
    },
    "kernelspec": {
      "name": "python3",
      "display_name": "Python 3"
    },
    "language_info": {
      "name": "python"
    },
    "accelerator": "GPU",
    "widgets": {
      "application/vnd.jupyter.widget-state+json": {
        "fed0dc4ed137436589ad4cedd5b3281c": {
          "model_module": "@jupyter-widgets/controls",
          "model_name": "HBoxModel",
          "state": {
            "_view_name": "HBoxView",
            "_dom_classes": [],
            "_model_name": "HBoxModel",
            "_view_module": "@jupyter-widgets/controls",
            "_model_module_version": "1.5.0",
            "_view_count": null,
            "_view_module_version": "1.5.0",
            "box_style": "",
            "layout": "IPY_MODEL_4d804704b2664e7a8bfa36d17da08aae",
            "_model_module": "@jupyter-widgets/controls",
            "children": [
              "IPY_MODEL_4ee134ef8d3e4b609656fceec2bc606a",
              "IPY_MODEL_d79d227ac5ff4200b23ab2e3419da3a7"
            ]
          }
        },
        "4d804704b2664e7a8bfa36d17da08aae": {
          "model_module": "@jupyter-widgets/base",
          "model_name": "LayoutModel",
          "state": {
            "_view_name": "LayoutView",
            "grid_template_rows": null,
            "right": null,
            "justify_content": null,
            "_view_module": "@jupyter-widgets/base",
            "overflow": null,
            "_model_module_version": "1.2.0",
            "_view_count": null,
            "flex_flow": null,
            "width": null,
            "min_width": null,
            "border": null,
            "align_items": null,
            "bottom": null,
            "_model_module": "@jupyter-widgets/base",
            "top": null,
            "grid_column": null,
            "overflow_y": null,
            "overflow_x": null,
            "grid_auto_flow": null,
            "grid_area": null,
            "grid_template_columns": null,
            "flex": null,
            "_model_name": "LayoutModel",
            "justify_items": null,
            "grid_row": null,
            "max_height": null,
            "align_content": null,
            "visibility": null,
            "align_self": null,
            "height": null,
            "min_height": null,
            "padding": null,
            "grid_auto_rows": null,
            "grid_gap": null,
            "max_width": null,
            "order": null,
            "_view_module_version": "1.2.0",
            "grid_template_areas": null,
            "object_position": null,
            "object_fit": null,
            "grid_auto_columns": null,
            "margin": null,
            "display": null,
            "left": null
          }
        },
        "4ee134ef8d3e4b609656fceec2bc606a": {
          "model_module": "@jupyter-widgets/controls",
          "model_name": "FloatProgressModel",
          "state": {
            "_view_name": "ProgressView",
            "style": "IPY_MODEL_147f10ea3427463eb92b7119463ed58b",
            "_dom_classes": [],
            "description": "Downloading: 100%",
            "_model_name": "FloatProgressModel",
            "bar_style": "success",
            "max": 231508,
            "_view_module": "@jupyter-widgets/controls",
            "_model_module_version": "1.5.0",
            "value": 231508,
            "_view_count": null,
            "_view_module_version": "1.5.0",
            "orientation": "horizontal",
            "min": 0,
            "description_tooltip": null,
            "_model_module": "@jupyter-widgets/controls",
            "layout": "IPY_MODEL_f4deb75259aa4718aa9238bb04f40edf"
          }
        },
        "d79d227ac5ff4200b23ab2e3419da3a7": {
          "model_module": "@jupyter-widgets/controls",
          "model_name": "HTMLModel",
          "state": {
            "_view_name": "HTMLView",
            "style": "IPY_MODEL_c879865c2dbb4761be5e483bf281c2a5",
            "_dom_classes": [],
            "description": "",
            "_model_name": "HTMLModel",
            "placeholder": "​",
            "_view_module": "@jupyter-widgets/controls",
            "_model_module_version": "1.5.0",
            "value": " 232k/232k [00:00&lt;00:00, 262kB/s]",
            "_view_count": null,
            "_view_module_version": "1.5.0",
            "description_tooltip": null,
            "_model_module": "@jupyter-widgets/controls",
            "layout": "IPY_MODEL_d788967a8c544ea99511d7a302661c83"
          }
        },
        "147f10ea3427463eb92b7119463ed58b": {
          "model_module": "@jupyter-widgets/controls",
          "model_name": "ProgressStyleModel",
          "state": {
            "_view_name": "StyleView",
            "_model_name": "ProgressStyleModel",
            "description_width": "initial",
            "_view_module": "@jupyter-widgets/base",
            "_model_module_version": "1.5.0",
            "_view_count": null,
            "_view_module_version": "1.2.0",
            "bar_color": null,
            "_model_module": "@jupyter-widgets/controls"
          }
        },
        "f4deb75259aa4718aa9238bb04f40edf": {
          "model_module": "@jupyter-widgets/base",
          "model_name": "LayoutModel",
          "state": {
            "_view_name": "LayoutView",
            "grid_template_rows": null,
            "right": null,
            "justify_content": null,
            "_view_module": "@jupyter-widgets/base",
            "overflow": null,
            "_model_module_version": "1.2.0",
            "_view_count": null,
            "flex_flow": null,
            "width": null,
            "min_width": null,
            "border": null,
            "align_items": null,
            "bottom": null,
            "_model_module": "@jupyter-widgets/base",
            "top": null,
            "grid_column": null,
            "overflow_y": null,
            "overflow_x": null,
            "grid_auto_flow": null,
            "grid_area": null,
            "grid_template_columns": null,
            "flex": null,
            "_model_name": "LayoutModel",
            "justify_items": null,
            "grid_row": null,
            "max_height": null,
            "align_content": null,
            "visibility": null,
            "align_self": null,
            "height": null,
            "min_height": null,
            "padding": null,
            "grid_auto_rows": null,
            "grid_gap": null,
            "max_width": null,
            "order": null,
            "_view_module_version": "1.2.0",
            "grid_template_areas": null,
            "object_position": null,
            "object_fit": null,
            "grid_auto_columns": null,
            "margin": null,
            "display": null,
            "left": null
          }
        },
        "c879865c2dbb4761be5e483bf281c2a5": {
          "model_module": "@jupyter-widgets/controls",
          "model_name": "DescriptionStyleModel",
          "state": {
            "_view_name": "StyleView",
            "_model_name": "DescriptionStyleModel",
            "description_width": "",
            "_view_module": "@jupyter-widgets/base",
            "_model_module_version": "1.5.0",
            "_view_count": null,
            "_view_module_version": "1.2.0",
            "_model_module": "@jupyter-widgets/controls"
          }
        },
        "d788967a8c544ea99511d7a302661c83": {
          "model_module": "@jupyter-widgets/base",
          "model_name": "LayoutModel",
          "state": {
            "_view_name": "LayoutView",
            "grid_template_rows": null,
            "right": null,
            "justify_content": null,
            "_view_module": "@jupyter-widgets/base",
            "overflow": null,
            "_model_module_version": "1.2.0",
            "_view_count": null,
            "flex_flow": null,
            "width": null,
            "min_width": null,
            "border": null,
            "align_items": null,
            "bottom": null,
            "_model_module": "@jupyter-widgets/base",
            "top": null,
            "grid_column": null,
            "overflow_y": null,
            "overflow_x": null,
            "grid_auto_flow": null,
            "grid_area": null,
            "grid_template_columns": null,
            "flex": null,
            "_model_name": "LayoutModel",
            "justify_items": null,
            "grid_row": null,
            "max_height": null,
            "align_content": null,
            "visibility": null,
            "align_self": null,
            "height": null,
            "min_height": null,
            "padding": null,
            "grid_auto_rows": null,
            "grid_gap": null,
            "max_width": null,
            "order": null,
            "_view_module_version": "1.2.0",
            "grid_template_areas": null,
            "object_position": null,
            "object_fit": null,
            "grid_auto_columns": null,
            "margin": null,
            "display": null,
            "left": null
          }
        },
        "fa5ec1f8ae2f42d8965a507a48cc6963": {
          "model_module": "@jupyter-widgets/controls",
          "model_name": "HBoxModel",
          "state": {
            "_view_name": "HBoxView",
            "_dom_classes": [],
            "_model_name": "HBoxModel",
            "_view_module": "@jupyter-widgets/controls",
            "_model_module_version": "1.5.0",
            "_view_count": null,
            "_view_module_version": "1.5.0",
            "box_style": "",
            "layout": "IPY_MODEL_743491602fd249efa32148e8e30cf792",
            "_model_module": "@jupyter-widgets/controls",
            "children": [
              "IPY_MODEL_7f5dea50d9494e77aa87f595ba2e63a1",
              "IPY_MODEL_df25ee5de35f40f5a8f11ecc3fab1c1e"
            ]
          }
        },
        "743491602fd249efa32148e8e30cf792": {
          "model_module": "@jupyter-widgets/base",
          "model_name": "LayoutModel",
          "state": {
            "_view_name": "LayoutView",
            "grid_template_rows": null,
            "right": null,
            "justify_content": null,
            "_view_module": "@jupyter-widgets/base",
            "overflow": null,
            "_model_module_version": "1.2.0",
            "_view_count": null,
            "flex_flow": null,
            "width": null,
            "min_width": null,
            "border": null,
            "align_items": null,
            "bottom": null,
            "_model_module": "@jupyter-widgets/base",
            "top": null,
            "grid_column": null,
            "overflow_y": null,
            "overflow_x": null,
            "grid_auto_flow": null,
            "grid_area": null,
            "grid_template_columns": null,
            "flex": null,
            "_model_name": "LayoutModel",
            "justify_items": null,
            "grid_row": null,
            "max_height": null,
            "align_content": null,
            "visibility": null,
            "align_self": null,
            "height": null,
            "min_height": null,
            "padding": null,
            "grid_auto_rows": null,
            "grid_gap": null,
            "max_width": null,
            "order": null,
            "_view_module_version": "1.2.0",
            "grid_template_areas": null,
            "object_position": null,
            "object_fit": null,
            "grid_auto_columns": null,
            "margin": null,
            "display": null,
            "left": null
          }
        },
        "7f5dea50d9494e77aa87f595ba2e63a1": {
          "model_module": "@jupyter-widgets/controls",
          "model_name": "FloatProgressModel",
          "state": {
            "_view_name": "ProgressView",
            "style": "IPY_MODEL_4324086a9ce3457f9f7da89fdf10ec68",
            "_dom_classes": [],
            "description": "Downloading: 100%",
            "_model_name": "FloatProgressModel",
            "bar_style": "success",
            "max": 28,
            "_view_module": "@jupyter-widgets/controls",
            "_model_module_version": "1.5.0",
            "value": 28,
            "_view_count": null,
            "_view_module_version": "1.5.0",
            "orientation": "horizontal",
            "min": 0,
            "description_tooltip": null,
            "_model_module": "@jupyter-widgets/controls",
            "layout": "IPY_MODEL_cf07251cbda6416fbe8c90e3d8afd44e"
          }
        },
        "df25ee5de35f40f5a8f11ecc3fab1c1e": {
          "model_module": "@jupyter-widgets/controls",
          "model_name": "HTMLModel",
          "state": {
            "_view_name": "HTMLView",
            "style": "IPY_MODEL_936760c4dd60461b982de162c6754d9f",
            "_dom_classes": [],
            "description": "",
            "_model_name": "HTMLModel",
            "placeholder": "​",
            "_view_module": "@jupyter-widgets/controls",
            "_model_module_version": "1.5.0",
            "value": " 28.0/28.0 [00:00&lt;00:00, 35.2B/s]",
            "_view_count": null,
            "_view_module_version": "1.5.0",
            "description_tooltip": null,
            "_model_module": "@jupyter-widgets/controls",
            "layout": "IPY_MODEL_92c63eb8613345b5b74c672f52ffb39a"
          }
        },
        "4324086a9ce3457f9f7da89fdf10ec68": {
          "model_module": "@jupyter-widgets/controls",
          "model_name": "ProgressStyleModel",
          "state": {
            "_view_name": "StyleView",
            "_model_name": "ProgressStyleModel",
            "description_width": "initial",
            "_view_module": "@jupyter-widgets/base",
            "_model_module_version": "1.5.0",
            "_view_count": null,
            "_view_module_version": "1.2.0",
            "bar_color": null,
            "_model_module": "@jupyter-widgets/controls"
          }
        },
        "cf07251cbda6416fbe8c90e3d8afd44e": {
          "model_module": "@jupyter-widgets/base",
          "model_name": "LayoutModel",
          "state": {
            "_view_name": "LayoutView",
            "grid_template_rows": null,
            "right": null,
            "justify_content": null,
            "_view_module": "@jupyter-widgets/base",
            "overflow": null,
            "_model_module_version": "1.2.0",
            "_view_count": null,
            "flex_flow": null,
            "width": null,
            "min_width": null,
            "border": null,
            "align_items": null,
            "bottom": null,
            "_model_module": "@jupyter-widgets/base",
            "top": null,
            "grid_column": null,
            "overflow_y": null,
            "overflow_x": null,
            "grid_auto_flow": null,
            "grid_area": null,
            "grid_template_columns": null,
            "flex": null,
            "_model_name": "LayoutModel",
            "justify_items": null,
            "grid_row": null,
            "max_height": null,
            "align_content": null,
            "visibility": null,
            "align_self": null,
            "height": null,
            "min_height": null,
            "padding": null,
            "grid_auto_rows": null,
            "grid_gap": null,
            "max_width": null,
            "order": null,
            "_view_module_version": "1.2.0",
            "grid_template_areas": null,
            "object_position": null,
            "object_fit": null,
            "grid_auto_columns": null,
            "margin": null,
            "display": null,
            "left": null
          }
        },
        "936760c4dd60461b982de162c6754d9f": {
          "model_module": "@jupyter-widgets/controls",
          "model_name": "DescriptionStyleModel",
          "state": {
            "_view_name": "StyleView",
            "_model_name": "DescriptionStyleModel",
            "description_width": "",
            "_view_module": "@jupyter-widgets/base",
            "_model_module_version": "1.5.0",
            "_view_count": null,
            "_view_module_version": "1.2.0",
            "_model_module": "@jupyter-widgets/controls"
          }
        },
        "92c63eb8613345b5b74c672f52ffb39a": {
          "model_module": "@jupyter-widgets/base",
          "model_name": "LayoutModel",
          "state": {
            "_view_name": "LayoutView",
            "grid_template_rows": null,
            "right": null,
            "justify_content": null,
            "_view_module": "@jupyter-widgets/base",
            "overflow": null,
            "_model_module_version": "1.2.0",
            "_view_count": null,
            "flex_flow": null,
            "width": null,
            "min_width": null,
            "border": null,
            "align_items": null,
            "bottom": null,
            "_model_module": "@jupyter-widgets/base",
            "top": null,
            "grid_column": null,
            "overflow_y": null,
            "overflow_x": null,
            "grid_auto_flow": null,
            "grid_area": null,
            "grid_template_columns": null,
            "flex": null,
            "_model_name": "LayoutModel",
            "justify_items": null,
            "grid_row": null,
            "max_height": null,
            "align_content": null,
            "visibility": null,
            "align_self": null,
            "height": null,
            "min_height": null,
            "padding": null,
            "grid_auto_rows": null,
            "grid_gap": null,
            "max_width": null,
            "order": null,
            "_view_module_version": "1.2.0",
            "grid_template_areas": null,
            "object_position": null,
            "object_fit": null,
            "grid_auto_columns": null,
            "margin": null,
            "display": null,
            "left": null
          }
        },
        "b0e1b8f2d9914e2395d100f7acb04571": {
          "model_module": "@jupyter-widgets/controls",
          "model_name": "HBoxModel",
          "state": {
            "_view_name": "HBoxView",
            "_dom_classes": [],
            "_model_name": "HBoxModel",
            "_view_module": "@jupyter-widgets/controls",
            "_model_module_version": "1.5.0",
            "_view_count": null,
            "_view_module_version": "1.5.0",
            "box_style": "",
            "layout": "IPY_MODEL_ea4da68b004940f6833dfbd4789c3f12",
            "_model_module": "@jupyter-widgets/controls",
            "children": [
              "IPY_MODEL_a4c02dadb0634d15924aa63eaa36bf90",
              "IPY_MODEL_6a7a4fca84f94b248fefb18e247f5002"
            ]
          }
        },
        "ea4da68b004940f6833dfbd4789c3f12": {
          "model_module": "@jupyter-widgets/base",
          "model_name": "LayoutModel",
          "state": {
            "_view_name": "LayoutView",
            "grid_template_rows": null,
            "right": null,
            "justify_content": null,
            "_view_module": "@jupyter-widgets/base",
            "overflow": null,
            "_model_module_version": "1.2.0",
            "_view_count": null,
            "flex_flow": null,
            "width": null,
            "min_width": null,
            "border": null,
            "align_items": null,
            "bottom": null,
            "_model_module": "@jupyter-widgets/base",
            "top": null,
            "grid_column": null,
            "overflow_y": null,
            "overflow_x": null,
            "grid_auto_flow": null,
            "grid_area": null,
            "grid_template_columns": null,
            "flex": null,
            "_model_name": "LayoutModel",
            "justify_items": null,
            "grid_row": null,
            "max_height": null,
            "align_content": null,
            "visibility": null,
            "align_self": null,
            "height": null,
            "min_height": null,
            "padding": null,
            "grid_auto_rows": null,
            "grid_gap": null,
            "max_width": null,
            "order": null,
            "_view_module_version": "1.2.0",
            "grid_template_areas": null,
            "object_position": null,
            "object_fit": null,
            "grid_auto_columns": null,
            "margin": null,
            "display": null,
            "left": null
          }
        },
        "a4c02dadb0634d15924aa63eaa36bf90": {
          "model_module": "@jupyter-widgets/controls",
          "model_name": "FloatProgressModel",
          "state": {
            "_view_name": "ProgressView",
            "style": "IPY_MODEL_0f4a78d218084bea854d1056cf41a711",
            "_dom_classes": [],
            "description": "Downloading: 100%",
            "_model_name": "FloatProgressModel",
            "bar_style": "success",
            "max": 466062,
            "_view_module": "@jupyter-widgets/controls",
            "_model_module_version": "1.5.0",
            "value": 466062,
            "_view_count": null,
            "_view_module_version": "1.5.0",
            "orientation": "horizontal",
            "min": 0,
            "description_tooltip": null,
            "_model_module": "@jupyter-widgets/controls",
            "layout": "IPY_MODEL_b6a7fc7b43334e209245e36d10a40294"
          }
        },
        "6a7a4fca84f94b248fefb18e247f5002": {
          "model_module": "@jupyter-widgets/controls",
          "model_name": "HTMLModel",
          "state": {
            "_view_name": "HTMLView",
            "style": "IPY_MODEL_c9150b5d34944e239141dfb878780396",
            "_dom_classes": [],
            "description": "",
            "_model_name": "HTMLModel",
            "placeholder": "​",
            "_view_module": "@jupyter-widgets/controls",
            "_model_module_version": "1.5.0",
            "value": " 466k/466k [00:00&lt;00:00, 1.34MB/s]",
            "_view_count": null,
            "_view_module_version": "1.5.0",
            "description_tooltip": null,
            "_model_module": "@jupyter-widgets/controls",
            "layout": "IPY_MODEL_942c0403a3924928bab24d0d0d217698"
          }
        },
        "0f4a78d218084bea854d1056cf41a711": {
          "model_module": "@jupyter-widgets/controls",
          "model_name": "ProgressStyleModel",
          "state": {
            "_view_name": "StyleView",
            "_model_name": "ProgressStyleModel",
            "description_width": "initial",
            "_view_module": "@jupyter-widgets/base",
            "_model_module_version": "1.5.0",
            "_view_count": null,
            "_view_module_version": "1.2.0",
            "bar_color": null,
            "_model_module": "@jupyter-widgets/controls"
          }
        },
        "b6a7fc7b43334e209245e36d10a40294": {
          "model_module": "@jupyter-widgets/base",
          "model_name": "LayoutModel",
          "state": {
            "_view_name": "LayoutView",
            "grid_template_rows": null,
            "right": null,
            "justify_content": null,
            "_view_module": "@jupyter-widgets/base",
            "overflow": null,
            "_model_module_version": "1.2.0",
            "_view_count": null,
            "flex_flow": null,
            "width": null,
            "min_width": null,
            "border": null,
            "align_items": null,
            "bottom": null,
            "_model_module": "@jupyter-widgets/base",
            "top": null,
            "grid_column": null,
            "overflow_y": null,
            "overflow_x": null,
            "grid_auto_flow": null,
            "grid_area": null,
            "grid_template_columns": null,
            "flex": null,
            "_model_name": "LayoutModel",
            "justify_items": null,
            "grid_row": null,
            "max_height": null,
            "align_content": null,
            "visibility": null,
            "align_self": null,
            "height": null,
            "min_height": null,
            "padding": null,
            "grid_auto_rows": null,
            "grid_gap": null,
            "max_width": null,
            "order": null,
            "_view_module_version": "1.2.0",
            "grid_template_areas": null,
            "object_position": null,
            "object_fit": null,
            "grid_auto_columns": null,
            "margin": null,
            "display": null,
            "left": null
          }
        },
        "c9150b5d34944e239141dfb878780396": {
          "model_module": "@jupyter-widgets/controls",
          "model_name": "DescriptionStyleModel",
          "state": {
            "_view_name": "StyleView",
            "_model_name": "DescriptionStyleModel",
            "description_width": "",
            "_view_module": "@jupyter-widgets/base",
            "_model_module_version": "1.5.0",
            "_view_count": null,
            "_view_module_version": "1.2.0",
            "_model_module": "@jupyter-widgets/controls"
          }
        },
        "942c0403a3924928bab24d0d0d217698": {
          "model_module": "@jupyter-widgets/base",
          "model_name": "LayoutModel",
          "state": {
            "_view_name": "LayoutView",
            "grid_template_rows": null,
            "right": null,
            "justify_content": null,
            "_view_module": "@jupyter-widgets/base",
            "overflow": null,
            "_model_module_version": "1.2.0",
            "_view_count": null,
            "flex_flow": null,
            "width": null,
            "min_width": null,
            "border": null,
            "align_items": null,
            "bottom": null,
            "_model_module": "@jupyter-widgets/base",
            "top": null,
            "grid_column": null,
            "overflow_y": null,
            "overflow_x": null,
            "grid_auto_flow": null,
            "grid_area": null,
            "grid_template_columns": null,
            "flex": null,
            "_model_name": "LayoutModel",
            "justify_items": null,
            "grid_row": null,
            "max_height": null,
            "align_content": null,
            "visibility": null,
            "align_self": null,
            "height": null,
            "min_height": null,
            "padding": null,
            "grid_auto_rows": null,
            "grid_gap": null,
            "max_width": null,
            "order": null,
            "_view_module_version": "1.2.0",
            "grid_template_areas": null,
            "object_position": null,
            "object_fit": null,
            "grid_auto_columns": null,
            "margin": null,
            "display": null,
            "left": null
          }
        },
        "9a5fcbc8ab2546b39dd857cbc5b05589": {
          "model_module": "@jupyter-widgets/controls",
          "model_name": "HBoxModel",
          "state": {
            "_view_name": "HBoxView",
            "_dom_classes": [],
            "_model_name": "HBoxModel",
            "_view_module": "@jupyter-widgets/controls",
            "_model_module_version": "1.5.0",
            "_view_count": null,
            "_view_module_version": "1.5.0",
            "box_style": "",
            "layout": "IPY_MODEL_0a2b16341b08491ab6c20cc9bf760d36",
            "_model_module": "@jupyter-widgets/controls",
            "children": [
              "IPY_MODEL_b999539dc8574467a2de21b11061adb2",
              "IPY_MODEL_b035ee334acf4143b3a83956c3c16a77"
            ]
          }
        },
        "0a2b16341b08491ab6c20cc9bf760d36": {
          "model_module": "@jupyter-widgets/base",
          "model_name": "LayoutModel",
          "state": {
            "_view_name": "LayoutView",
            "grid_template_rows": null,
            "right": null,
            "justify_content": null,
            "_view_module": "@jupyter-widgets/base",
            "overflow": null,
            "_model_module_version": "1.2.0",
            "_view_count": null,
            "flex_flow": null,
            "width": null,
            "min_width": null,
            "border": null,
            "align_items": null,
            "bottom": null,
            "_model_module": "@jupyter-widgets/base",
            "top": null,
            "grid_column": null,
            "overflow_y": null,
            "overflow_x": null,
            "grid_auto_flow": null,
            "grid_area": null,
            "grid_template_columns": null,
            "flex": null,
            "_model_name": "LayoutModel",
            "justify_items": null,
            "grid_row": null,
            "max_height": null,
            "align_content": null,
            "visibility": null,
            "align_self": null,
            "height": null,
            "min_height": null,
            "padding": null,
            "grid_auto_rows": null,
            "grid_gap": null,
            "max_width": null,
            "order": null,
            "_view_module_version": "1.2.0",
            "grid_template_areas": null,
            "object_position": null,
            "object_fit": null,
            "grid_auto_columns": null,
            "margin": null,
            "display": null,
            "left": null
          }
        },
        "b999539dc8574467a2de21b11061adb2": {
          "model_module": "@jupyter-widgets/controls",
          "model_name": "FloatProgressModel",
          "state": {
            "_view_name": "ProgressView",
            "style": "IPY_MODEL_443140368542481ba710a6014b56d75a",
            "_dom_classes": [],
            "description": "Downloading: 100%",
            "_model_name": "FloatProgressModel",
            "bar_style": "success",
            "max": 442,
            "_view_module": "@jupyter-widgets/controls",
            "_model_module_version": "1.5.0",
            "value": 442,
            "_view_count": null,
            "_view_module_version": "1.5.0",
            "orientation": "horizontal",
            "min": 0,
            "description_tooltip": null,
            "_model_module": "@jupyter-widgets/controls",
            "layout": "IPY_MODEL_9df7b17252bb49d99526e1ca313c5f7f"
          }
        },
        "b035ee334acf4143b3a83956c3c16a77": {
          "model_module": "@jupyter-widgets/controls",
          "model_name": "HTMLModel",
          "state": {
            "_view_name": "HTMLView",
            "style": "IPY_MODEL_536c07f783514067b4cd5efc565e710d",
            "_dom_classes": [],
            "description": "",
            "_model_name": "HTMLModel",
            "placeholder": "​",
            "_view_module": "@jupyter-widgets/controls",
            "_model_module_version": "1.5.0",
            "value": " 442/442 [00:00&lt;00:00, 1.71kB/s]",
            "_view_count": null,
            "_view_module_version": "1.5.0",
            "description_tooltip": null,
            "_model_module": "@jupyter-widgets/controls",
            "layout": "IPY_MODEL_16d0a9d8601446a5bd6f2db052fb7043"
          }
        },
        "443140368542481ba710a6014b56d75a": {
          "model_module": "@jupyter-widgets/controls",
          "model_name": "ProgressStyleModel",
          "state": {
            "_view_name": "StyleView",
            "_model_name": "ProgressStyleModel",
            "description_width": "initial",
            "_view_module": "@jupyter-widgets/base",
            "_model_module_version": "1.5.0",
            "_view_count": null,
            "_view_module_version": "1.2.0",
            "bar_color": null,
            "_model_module": "@jupyter-widgets/controls"
          }
        },
        "9df7b17252bb49d99526e1ca313c5f7f": {
          "model_module": "@jupyter-widgets/base",
          "model_name": "LayoutModel",
          "state": {
            "_view_name": "LayoutView",
            "grid_template_rows": null,
            "right": null,
            "justify_content": null,
            "_view_module": "@jupyter-widgets/base",
            "overflow": null,
            "_model_module_version": "1.2.0",
            "_view_count": null,
            "flex_flow": null,
            "width": null,
            "min_width": null,
            "border": null,
            "align_items": null,
            "bottom": null,
            "_model_module": "@jupyter-widgets/base",
            "top": null,
            "grid_column": null,
            "overflow_y": null,
            "overflow_x": null,
            "grid_auto_flow": null,
            "grid_area": null,
            "grid_template_columns": null,
            "flex": null,
            "_model_name": "LayoutModel",
            "justify_items": null,
            "grid_row": null,
            "max_height": null,
            "align_content": null,
            "visibility": null,
            "align_self": null,
            "height": null,
            "min_height": null,
            "padding": null,
            "grid_auto_rows": null,
            "grid_gap": null,
            "max_width": null,
            "order": null,
            "_view_module_version": "1.2.0",
            "grid_template_areas": null,
            "object_position": null,
            "object_fit": null,
            "grid_auto_columns": null,
            "margin": null,
            "display": null,
            "left": null
          }
        },
        "536c07f783514067b4cd5efc565e710d": {
          "model_module": "@jupyter-widgets/controls",
          "model_name": "DescriptionStyleModel",
          "state": {
            "_view_name": "StyleView",
            "_model_name": "DescriptionStyleModel",
            "description_width": "",
            "_view_module": "@jupyter-widgets/base",
            "_model_module_version": "1.5.0",
            "_view_count": null,
            "_view_module_version": "1.2.0",
            "_model_module": "@jupyter-widgets/controls"
          }
        },
        "16d0a9d8601446a5bd6f2db052fb7043": {
          "model_module": "@jupyter-widgets/base",
          "model_name": "LayoutModel",
          "state": {
            "_view_name": "LayoutView",
            "grid_template_rows": null,
            "right": null,
            "justify_content": null,
            "_view_module": "@jupyter-widgets/base",
            "overflow": null,
            "_model_module_version": "1.2.0",
            "_view_count": null,
            "flex_flow": null,
            "width": null,
            "min_width": null,
            "border": null,
            "align_items": null,
            "bottom": null,
            "_model_module": "@jupyter-widgets/base",
            "top": null,
            "grid_column": null,
            "overflow_y": null,
            "overflow_x": null,
            "grid_auto_flow": null,
            "grid_area": null,
            "grid_template_columns": null,
            "flex": null,
            "_model_name": "LayoutModel",
            "justify_items": null,
            "grid_row": null,
            "max_height": null,
            "align_content": null,
            "visibility": null,
            "align_self": null,
            "height": null,
            "min_height": null,
            "padding": null,
            "grid_auto_rows": null,
            "grid_gap": null,
            "max_width": null,
            "order": null,
            "_view_module_version": "1.2.0",
            "grid_template_areas": null,
            "object_position": null,
            "object_fit": null,
            "grid_auto_columns": null,
            "margin": null,
            "display": null,
            "left": null
          }
        },
        "6dac9cc594554d97a6b68b6f312268ad": {
          "model_module": "@jupyter-widgets/controls",
          "model_name": "HBoxModel",
          "state": {
            "_view_name": "HBoxView",
            "_dom_classes": [],
            "_model_name": "HBoxModel",
            "_view_module": "@jupyter-widgets/controls",
            "_model_module_version": "1.5.0",
            "_view_count": null,
            "_view_module_version": "1.5.0",
            "box_style": "",
            "layout": "IPY_MODEL_9c04b06a9a36410aa3f2d2a97eb2175a",
            "_model_module": "@jupyter-widgets/controls",
            "children": [
              "IPY_MODEL_8076aa3731d74f1a9c2aa9e61e66bedd",
              "IPY_MODEL_24587bf3a2ca4310af177aa256e30995"
            ]
          }
        },
        "9c04b06a9a36410aa3f2d2a97eb2175a": {
          "model_module": "@jupyter-widgets/base",
          "model_name": "LayoutModel",
          "state": {
            "_view_name": "LayoutView",
            "grid_template_rows": null,
            "right": null,
            "justify_content": null,
            "_view_module": "@jupyter-widgets/base",
            "overflow": null,
            "_model_module_version": "1.2.0",
            "_view_count": null,
            "flex_flow": null,
            "width": null,
            "min_width": null,
            "border": null,
            "align_items": null,
            "bottom": null,
            "_model_module": "@jupyter-widgets/base",
            "top": null,
            "grid_column": null,
            "overflow_y": null,
            "overflow_x": null,
            "grid_auto_flow": null,
            "grid_area": null,
            "grid_template_columns": null,
            "flex": null,
            "_model_name": "LayoutModel",
            "justify_items": null,
            "grid_row": null,
            "max_height": null,
            "align_content": null,
            "visibility": null,
            "align_self": null,
            "height": null,
            "min_height": null,
            "padding": null,
            "grid_auto_rows": null,
            "grid_gap": null,
            "max_width": null,
            "order": null,
            "_view_module_version": "1.2.0",
            "grid_template_areas": null,
            "object_position": null,
            "object_fit": null,
            "grid_auto_columns": null,
            "margin": null,
            "display": null,
            "left": null
          }
        },
        "8076aa3731d74f1a9c2aa9e61e66bedd": {
          "model_module": "@jupyter-widgets/controls",
          "model_name": "FloatProgressModel",
          "state": {
            "_view_name": "ProgressView",
            "style": "IPY_MODEL_204f2026cd9c46e3bb09378a9ddfa7da",
            "_dom_classes": [],
            "description": "Downloading: 100%",
            "_model_name": "FloatProgressModel",
            "bar_style": "success",
            "max": 267967963,
            "_view_module": "@jupyter-widgets/controls",
            "_model_module_version": "1.5.0",
            "value": 267967963,
            "_view_count": null,
            "_view_module_version": "1.5.0",
            "orientation": "horizontal",
            "min": 0,
            "description_tooltip": null,
            "_model_module": "@jupyter-widgets/controls",
            "layout": "IPY_MODEL_186447fd1afa47858832f47f720367c3"
          }
        },
        "24587bf3a2ca4310af177aa256e30995": {
          "model_module": "@jupyter-widgets/controls",
          "model_name": "HTMLModel",
          "state": {
            "_view_name": "HTMLView",
            "style": "IPY_MODEL_9b938baa4c8a46f899c632cd15b025e4",
            "_dom_classes": [],
            "description": "",
            "_model_name": "HTMLModel",
            "placeholder": "​",
            "_view_module": "@jupyter-widgets/controls",
            "_model_module_version": "1.5.0",
            "value": " 268M/268M [00:05&lt;00:00, 52.2MB/s]",
            "_view_count": null,
            "_view_module_version": "1.5.0",
            "description_tooltip": null,
            "_model_module": "@jupyter-widgets/controls",
            "layout": "IPY_MODEL_16518c1ceaae4872978707af1616f416"
          }
        },
        "204f2026cd9c46e3bb09378a9ddfa7da": {
          "model_module": "@jupyter-widgets/controls",
          "model_name": "ProgressStyleModel",
          "state": {
            "_view_name": "StyleView",
            "_model_name": "ProgressStyleModel",
            "description_width": "initial",
            "_view_module": "@jupyter-widgets/base",
            "_model_module_version": "1.5.0",
            "_view_count": null,
            "_view_module_version": "1.2.0",
            "bar_color": null,
            "_model_module": "@jupyter-widgets/controls"
          }
        },
        "186447fd1afa47858832f47f720367c3": {
          "model_module": "@jupyter-widgets/base",
          "model_name": "LayoutModel",
          "state": {
            "_view_name": "LayoutView",
            "grid_template_rows": null,
            "right": null,
            "justify_content": null,
            "_view_module": "@jupyter-widgets/base",
            "overflow": null,
            "_model_module_version": "1.2.0",
            "_view_count": null,
            "flex_flow": null,
            "width": null,
            "min_width": null,
            "border": null,
            "align_items": null,
            "bottom": null,
            "_model_module": "@jupyter-widgets/base",
            "top": null,
            "grid_column": null,
            "overflow_y": null,
            "overflow_x": null,
            "grid_auto_flow": null,
            "grid_area": null,
            "grid_template_columns": null,
            "flex": null,
            "_model_name": "LayoutModel",
            "justify_items": null,
            "grid_row": null,
            "max_height": null,
            "align_content": null,
            "visibility": null,
            "align_self": null,
            "height": null,
            "min_height": null,
            "padding": null,
            "grid_auto_rows": null,
            "grid_gap": null,
            "max_width": null,
            "order": null,
            "_view_module_version": "1.2.0",
            "grid_template_areas": null,
            "object_position": null,
            "object_fit": null,
            "grid_auto_columns": null,
            "margin": null,
            "display": null,
            "left": null
          }
        },
        "9b938baa4c8a46f899c632cd15b025e4": {
          "model_module": "@jupyter-widgets/controls",
          "model_name": "DescriptionStyleModel",
          "state": {
            "_view_name": "StyleView",
            "_model_name": "DescriptionStyleModel",
            "description_width": "",
            "_view_module": "@jupyter-widgets/base",
            "_model_module_version": "1.5.0",
            "_view_count": null,
            "_view_module_version": "1.2.0",
            "_model_module": "@jupyter-widgets/controls"
          }
        },
        "16518c1ceaae4872978707af1616f416": {
          "model_module": "@jupyter-widgets/base",
          "model_name": "LayoutModel",
          "state": {
            "_view_name": "LayoutView",
            "grid_template_rows": null,
            "right": null,
            "justify_content": null,
            "_view_module": "@jupyter-widgets/base",
            "overflow": null,
            "_model_module_version": "1.2.0",
            "_view_count": null,
            "flex_flow": null,
            "width": null,
            "min_width": null,
            "border": null,
            "align_items": null,
            "bottom": null,
            "_model_module": "@jupyter-widgets/base",
            "top": null,
            "grid_column": null,
            "overflow_y": null,
            "overflow_x": null,
            "grid_auto_flow": null,
            "grid_area": null,
            "grid_template_columns": null,
            "flex": null,
            "_model_name": "LayoutModel",
            "justify_items": null,
            "grid_row": null,
            "max_height": null,
            "align_content": null,
            "visibility": null,
            "align_self": null,
            "height": null,
            "min_height": null,
            "padding": null,
            "grid_auto_rows": null,
            "grid_gap": null,
            "max_width": null,
            "order": null,
            "_view_module_version": "1.2.0",
            "grid_template_areas": null,
            "object_position": null,
            "object_fit": null,
            "grid_auto_columns": null,
            "margin": null,
            "display": null,
            "left": null
          }
        }
      }
    }
  },
  "cells": [
    {
      "cell_type": "code",
      "metadata": {
        "id": "0QsQgMCAcx6h"
      },
      "source": [
        "#@title Imports\n",
        "import pandas as pd\n",
        "import io\n",
        "import numpy as np\n",
        "import matplotlib.pyplot as plt\n",
        "import re"
      ],
      "execution_count": 1,
      "outputs": []
    },
    {
      "cell_type": "code",
      "metadata": {
        "id": "CS4ymwCGR1Om",
        "outputId": "4ec5576c-260c-40e6-f581-e56a3dffdb2b",
        "colab": {
          "base_uri": "https://localhost:8080/"
        }
      },
      "source": [
        "#@title Activating the GPU\n",
        "# Main menu->Runtime->Change Runtime Type\n",
        "import tensorflow as tf\n",
        "device_name = tf.test.gpu_device_name()\n",
        "if device_name != '/device:GPU:0':\n",
        "  raise SystemError('GPU device not found')\n",
        "print('Found GPU at: {}'.format(device_name))"
      ],
      "execution_count": 2,
      "outputs": [
        {
          "output_type": "stream",
          "text": [
            "Found GPU at: /device:GPU:0\n"
          ],
          "name": "stdout"
        }
      ]
    },
    {
      "cell_type": "code",
      "metadata": {
        "id": "Xr9uxu9xSuK_",
        "outputId": "08434cac-b5e3-49b1-c400-b6c0c590ed5e",
        "colab": {
          "base_uri": "https://localhost:8080/"
        }
      },
      "source": [
        "#@title Further settings to be done\n",
        "!pip install transformers\n",
        "import numpy as np\n",
        "import pandas as pd\n",
        "from sklearn.model_selection import train_test_split\n",
        "from sklearn.linear_model import LogisticRegression\n",
        "from sklearn.model_selection import GridSearchCV\n",
        "from sklearn.model_selection import cross_val_score\n",
        "import torch\n",
        "import transformers as ppb\n",
        "import warnings\n",
        "warnings.filterwarnings('ignore')"
      ],
      "execution_count": 3,
      "outputs": [
        {
          "output_type": "stream",
          "text": [
            "Collecting transformers\n",
            "\u001b[?25l  Downloading https://files.pythonhosted.org/packages/ed/d5/f4157a376b8a79489a76ce6cfe147f4f3be1e029b7144fa7b8432e8acb26/transformers-4.4.2-py3-none-any.whl (2.0MB)\n",
            "\u001b[K     |████████████████████████████████| 2.0MB 9.3MB/s \n",
            "\u001b[?25hCollecting tokenizers<0.11,>=0.10.1\n",
            "\u001b[?25l  Downloading https://files.pythonhosted.org/packages/71/23/2ddc317b2121117bf34dd00f5b0de194158f2a44ee2bf5e47c7166878a97/tokenizers-0.10.1-cp37-cp37m-manylinux2010_x86_64.whl (3.2MB)\n",
            "\u001b[K     |████████████████████████████████| 3.2MB 47.9MB/s \n",
            "\u001b[?25hRequirement already satisfied: numpy>=1.17 in /usr/local/lib/python3.7/dist-packages (from transformers) (1.19.5)\n",
            "Requirement already satisfied: filelock in /usr/local/lib/python3.7/dist-packages (from transformers) (3.0.12)\n",
            "Requirement already satisfied: regex!=2019.12.17 in /usr/local/lib/python3.7/dist-packages (from transformers) (2019.12.20)\n",
            "Requirement already satisfied: importlib-metadata; python_version < \"3.8\" in /usr/local/lib/python3.7/dist-packages (from transformers) (3.7.2)\n",
            "Requirement already satisfied: tqdm>=4.27 in /usr/local/lib/python3.7/dist-packages (from transformers) (4.41.1)\n",
            "Collecting sacremoses\n",
            "\u001b[?25l  Downloading https://files.pythonhosted.org/packages/7d/34/09d19aff26edcc8eb2a01bed8e98f13a1537005d31e95233fd48216eed10/sacremoses-0.0.43.tar.gz (883kB)\n",
            "\u001b[K     |████████████████████████████████| 890kB 51.0MB/s \n",
            "\u001b[?25hRequirement already satisfied: requests in /usr/local/lib/python3.7/dist-packages (from transformers) (2.23.0)\n",
            "Requirement already satisfied: packaging in /usr/local/lib/python3.7/dist-packages (from transformers) (20.9)\n",
            "Requirement already satisfied: typing-extensions>=3.6.4; python_version < \"3.8\" in /usr/local/lib/python3.7/dist-packages (from importlib-metadata; python_version < \"3.8\"->transformers) (3.7.4.3)\n",
            "Requirement already satisfied: zipp>=0.5 in /usr/local/lib/python3.7/dist-packages (from importlib-metadata; python_version < \"3.8\"->transformers) (3.4.1)\n",
            "Requirement already satisfied: six in /usr/local/lib/python3.7/dist-packages (from sacremoses->transformers) (1.15.0)\n",
            "Requirement already satisfied: click in /usr/local/lib/python3.7/dist-packages (from sacremoses->transformers) (7.1.2)\n",
            "Requirement already satisfied: joblib in /usr/local/lib/python3.7/dist-packages (from sacremoses->transformers) (1.0.1)\n",
            "Requirement already satisfied: chardet<4,>=3.0.2 in /usr/local/lib/python3.7/dist-packages (from requests->transformers) (3.0.4)\n",
            "Requirement already satisfied: urllib3!=1.25.0,!=1.25.1,<1.26,>=1.21.1 in /usr/local/lib/python3.7/dist-packages (from requests->transformers) (1.24.3)\n",
            "Requirement already satisfied: certifi>=2017.4.17 in /usr/local/lib/python3.7/dist-packages (from requests->transformers) (2020.12.5)\n",
            "Requirement already satisfied: idna<3,>=2.5 in /usr/local/lib/python3.7/dist-packages (from requests->transformers) (2.10)\n",
            "Requirement already satisfied: pyparsing>=2.0.2 in /usr/local/lib/python3.7/dist-packages (from packaging->transformers) (2.4.7)\n",
            "Building wheels for collected packages: sacremoses\n",
            "  Building wheel for sacremoses (setup.py) ... \u001b[?25l\u001b[?25hdone\n",
            "  Created wheel for sacremoses: filename=sacremoses-0.0.43-cp37-none-any.whl size=893262 sha256=7ccdeee1c5d8fd1ebb90ba9deba66f283d853fdd3230d49613595be7dab4829c\n",
            "  Stored in directory: /root/.cache/pip/wheels/29/3c/fd/7ce5c3f0666dab31a50123635e6fb5e19ceb42ce38d4e58f45\n",
            "Successfully built sacremoses\n",
            "Installing collected packages: tokenizers, sacremoses, transformers\n",
            "Successfully installed sacremoses-0.0.43 tokenizers-0.10.1 transformers-4.4.2\n"
          ],
          "name": "stdout"
        }
      ]
    },
    {
      "cell_type": "code",
      "metadata": {
        "id": "fS0Fb05XRpuc",
        "outputId": "92a71fd0-ea2d-4103-8442-5dfc6ed73399",
        "colab": {
          "base_uri": "https://localhost:8080/",
          "height": 35
        }
      },
      "source": [
        "#@title Specifying CUDA as the device for Torch\n",
        "device = torch.device(\"cuda\" if torch.cuda.is_available() else \"cpu\")\n",
        "n_gpu = torch.cuda.device_count()\n",
        "torch.cuda.get_device_name(0)"
      ],
      "execution_count": 4,
      "outputs": [
        {
          "output_type": "execute_result",
          "data": {
            "application/vnd.google.colaboratory.intrinsic+json": {
              "type": "string"
            },
            "text/plain": [
              "'Tesla T4'"
            ]
          },
          "metadata": {
            "tags": []
          },
          "execution_count": 4
        }
      ]
    },
    {
      "cell_type": "code",
      "metadata": {
        "id": "zGWhAeQ3eN47"
      },
      "source": [
        "#@title Import dataset\n",
        "df = pd.read_csv(\"SentiFM.csv\")"
      ],
      "execution_count": 6,
      "outputs": []
    },
    {
      "cell_type": "code",
      "metadata": {
        "colab": {
          "base_uri": "https://localhost:8080/",
          "height": 204
        },
        "id": "PyT_L_gCePvC",
        "outputId": "3f1ffaa9-7975-4d9a-9c93-1d24f1d87213"
      },
      "source": [
        "df.head()"
      ],
      "execution_count": 8,
      "outputs": [
        {
          "output_type": "execute_result",
          "data": {
            "text/html": [
              "<div>\n",
              "<style scoped>\n",
              "    .dataframe tbody tr th:only-of-type {\n",
              "        vertical-align: middle;\n",
              "    }\n",
              "\n",
              "    .dataframe tbody tr th {\n",
              "        vertical-align: top;\n",
              "    }\n",
              "\n",
              "    .dataframe thead th {\n",
              "        text-align: right;\n",
              "    }\n",
              "</style>\n",
              "<table border=\"1\" class=\"dataframe\">\n",
              "  <thead>\n",
              "    <tr style=\"text-align: right;\">\n",
              "      <th></th>\n",
              "      <th>Unnamed: 0</th>\n",
              "      <th>indexes</th>\n",
              "      <th>text</th>\n",
              "      <th>label</th>\n",
              "    </tr>\n",
              "  </thead>\n",
              "  <tbody>\n",
              "    <tr>\n",
              "      <th>0</th>\n",
              "      <td>0</td>\n",
              "      <td>5750.0</td>\n",
              "      <td>It will not say what it has spent on the proje...</td>\n",
              "      <td>-1</td>\n",
              "    </tr>\n",
              "    <tr>\n",
              "      <th>1</th>\n",
              "      <td>1</td>\n",
              "      <td>4305.0</td>\n",
              "      <td>Sir John Bond , chairman , told the bank 's an...</td>\n",
              "      <td>-1</td>\n",
              "    </tr>\n",
              "    <tr>\n",
              "      <th>2</th>\n",
              "      <td>2</td>\n",
              "      <td>7684.0</td>\n",
              "      <td>Unilever was criticised by shareholders at its...</td>\n",
              "      <td>-1</td>\n",
              "    </tr>\n",
              "    <tr>\n",
              "      <th>3</th>\n",
              "      <td>3</td>\n",
              "      <td>5360.0</td>\n",
              "      <td>Mr Sarin 's statement came as he announced tha...</td>\n",
              "      <td>-1</td>\n",
              "    </tr>\n",
              "    <tr>\n",
              "      <th>4</th>\n",
              "      <td>4</td>\n",
              "      <td>1887.0</td>\n",
              "      <td>BASF was advised by Deutsche Bank .</td>\n",
              "      <td>-1</td>\n",
              "    </tr>\n",
              "  </tbody>\n",
              "</table>\n",
              "</div>"
            ],
            "text/plain": [
              "   Unnamed: 0  indexes                                               text label\n",
              "0           0   5750.0  It will not say what it has spent on the proje...    -1\n",
              "1           1   4305.0  Sir John Bond , chairman , told the bank 's an...    -1\n",
              "2           2   7684.0  Unilever was criticised by shareholders at its...    -1\n",
              "3           3   5360.0  Mr Sarin 's statement came as he announced tha...    -1\n",
              "4           4   1887.0                BASF was advised by Deutsche Bank .    -1"
            ]
          },
          "metadata": {
            "tags": []
          },
          "execution_count": 8
        }
      ]
    },
    {
      "cell_type": "code",
      "metadata": {
        "colab": {
          "base_uri": "https://localhost:8080/"
        },
        "id": "lcbwcnDLi4Ta",
        "outputId": "01255bd5-891a-4db9-f1be-587715f2631e"
      },
      "source": [
        "df['label'].unique().tolist()"
      ],
      "execution_count": 9,
      "outputs": [
        {
          "output_type": "execute_result",
          "data": {
            "text/plain": [
              "['-1',\n",
              " 'ShareRepurchase',\n",
              " 'Profit',\n",
              " 'QuarterlyResultsProfit',\n",
              " 'Dividend',\n",
              " 'QuarterlyResults',\n",
              " 'BuyRating',\n",
              " 'SalesVolume',\n",
              " 'QuarterlyResultsSalesVolume',\n",
              " 'Turnover',\n",
              " 'MergerAcquisition',\n",
              " 'ProfitMergerAcquisition',\n",
              " 'MergerAcquisitionTurnoverSalesVolume',\n",
              " 'ProfitSalesVolume',\n",
              " 'TargetPrice',\n",
              " 'ProfitShareRepurchase',\n",
              " 'Debt',\n",
              " 'QuarterlyResultsTurnover',\n",
              " 'TargetPriceBuyRating',\n",
              " 'ProfitTurnover',\n",
              " 'MergerAcquisitionSalesVolume',\n",
              " 'MergerAcquisitionDebt',\n",
              " 'DividendProfit',\n",
              " 'TurnoverSalesVolume',\n",
              " 'DebtShareRepurchase',\n",
              " 'DividendShareRepurchase',\n",
              " 'DividendTurnover',\n",
              " 'QuarterlyResultsMergerAcquisition',\n",
              " 'ProfitBuyRating',\n",
              " 'QuarterlyResultsProfitSalesVolume',\n",
              " 'QuarterlyResultsTurnoverSalesVolume',\n",
              " 'ProfitTurnoverSalesVolume',\n",
              " 'DividendQuarterlyResultsProfit',\n",
              " 'DividendProfitSalesVolume',\n",
              " 'SalesVolumeBuyRating',\n",
              " 'DividendDebt',\n",
              " 'DividendMergerAcquisition',\n",
              " 'QuarterlyResultsProfitTurnover',\n",
              " 'MergerAcquisitionBuyRating',\n",
              " 'DividendMergerAcquisitionShareRepurchase',\n",
              " 'QuarterlyResultsSalesVolumeBuyRating',\n",
              " 'TurnoverShareRepurchase',\n",
              " 'MergerAcquisitionTurnover',\n",
              " 'DividendTargetPriceBuyRating',\n",
              " 'ProfitDebt',\n",
              " 'ProfitMergerAcquisitionTurnover',\n",
              " 'DividendTargetPriceProfit',\n",
              " 'MergerAcquisitionShareRepurchase']"
            ]
          },
          "metadata": {
            "tags": []
          },
          "execution_count": 9
        }
      ]
    },
    {
      "cell_type": "code",
      "metadata": {
        "id": "CItIMiyNhbqY"
      },
      "source": [
        "#@title Mutate targets\n",
        "profit = df.label.values\n",
        "profit = [float(value.find('Profit')>=0) for value in profit]\n",
        "profit_df = pd.DataFrame(\n",
        "    {'Index': df[\"indexes\"].values,\n",
        "     'Text':df[\"text\"].values,\n",
        "     'Label':profit\n",
        "     }\n",
        ")\n",
        "\n",
        "QuarterlyResults = df.label.values\n",
        "QuarterlyResults = [float(value.find('QuarterlyResults')>=0) for value in QuarterlyResults]\n",
        "QuarterlyResults_df = pd.DataFrame(\n",
        "    {'Index': df[\"indexes\"].values,\n",
        "     'Text':df[\"text\"].values,\n",
        "     'Label':QuarterlyResults\n",
        "     }\n",
        ")\n",
        "\n",
        "BuyRating = df.label.values\n",
        "BuyRating = [float(value.find('BuyRating')>=0) for value in BuyRating]\n",
        "BuyRating_df = pd.DataFrame(\n",
        "    {'Index': df[\"indexes\"].values,\n",
        "     'Text':df[\"text\"].values,\n",
        "     'Label':BuyRating\n",
        "     }\n",
        ")\n",
        "\n",
        "Debt = df.label.values\n",
        "Debt = [float(value.find('Debt')>=0) for value in Debt]\n",
        "Debt_df = pd.DataFrame(\n",
        "    {'Index': df[\"indexes\"].values,\n",
        "     'Text':df[\"text\"].values,\n",
        "     'Label':Debt\n",
        "     }\n",
        ")\n",
        "\n",
        "Dividend = df.label.values\n",
        "Dividend = [float(value.find('Dividend')>=0) for value in Dividend]\n",
        "Dividend_df = pd.DataFrame(\n",
        "    {'Index': df[\"indexes\"].values,\n",
        "     'Text':df[\"text\"].values,\n",
        "     'Label':Dividend\n",
        "     }\n",
        ")\n",
        "\n",
        "\n",
        "SalesVolume = df.label.values\n",
        "SalesVolume = [float(value.find('SalesVolume')>=0) for value in SalesVolume]\n",
        "SalesVolume_df = pd.DataFrame(\n",
        "    {'Index': df[\"indexes\"].values,\n",
        "     'Text':df[\"text\"].values,\n",
        "     'Label':SalesVolume\n",
        "     }\n",
        ")\n",
        "\n",
        "\n",
        "MergerAcquisition = df.label.values\n",
        "MergerAcquisition = [float(value.find('MergerAcquisition')>=0) for value in MergerAcquisition]\n",
        "MergerAcquisition_df = pd.DataFrame(\n",
        "    {'Index': df[\"indexes\"].values,\n",
        "     'Text':df[\"text\"].values,\n",
        "     'Label':MergerAcquisition\n",
        "     }\n",
        ")\n",
        "\n",
        "Turnover = df.label.values\n",
        "Turnover = [float(value.find('Turnover')>=0) for value in Turnover]\n",
        "Turnover_df = pd.DataFrame(\n",
        "    {'Index': df[\"indexes\"].values,\n",
        "     'Text':df[\"text\"].values,\n",
        "     'Label':Turnover\n",
        "     }\n",
        ")\n",
        "\n",
        "TargetPrice = df.label.values\n",
        "TargetPrice = [float(value.find('TargetPrice')>=0) for value in TargetPrice]\n",
        "TargetPrice_df = pd.DataFrame(\n",
        "    {'Index': df[\"indexes\"].values,\n",
        "     'Text':df[\"text\"].values,\n",
        "     'Label':TargetPrice\n",
        "     }\n",
        ")\n",
        "\n",
        "ShareRepurchase = df.label.values\n",
        "ShareRepurchase = [float(value.find('ShareRepurchase')>=0) for value in ShareRepurchase]\n",
        "ShareRepurchase_df = pd.DataFrame(\n",
        "    {'Index': df[\"indexes\"].values,\n",
        "     'Text':df[\"text\"].values,\n",
        "     'Label':ShareRepurchase\n",
        "     }\n",
        ")"
      ],
      "execution_count": 10,
      "outputs": []
    },
    {
      "cell_type": "code",
      "metadata": {
        "colab": {
          "base_uri": "https://localhost:8080/"
        },
        "id": "-8aHbFHsidSS",
        "outputId": "5141ddfe-3b2b-4681-814e-c39b65d51540"
      },
      "source": [
        "print(\n",
        "set(profit),\n",
        "set(QuarterlyResults),\n",
        "set(BuyRating),\n",
        "set(Debt),\n",
        "set(Dividend),\n",
        "set(SalesVolume),\n",
        "set(MergerAcquisition),\n",
        "set(Turnover),\n",
        "set(TargetPrice),\n",
        "set(ShareRepurchase))"
      ],
      "execution_count": 11,
      "outputs": [
        {
          "output_type": "stream",
          "text": [
            "{0.0, 1.0} {0.0, 1.0} {0.0, 1.0} {0.0, 1.0} {0.0, 1.0} {0.0, 1.0} {0.0, 1.0} {0.0, 1.0} {0.0, 1.0} {0.0, 1.0}\n"
          ],
          "name": "stdout"
        }
      ]
    },
    {
      "cell_type": "code",
      "metadata": {
        "id": "UHYjB8Hvt0zZ",
        "outputId": "b3ccabab-25cb-4bd8-93a7-09b588cd8539",
        "colab": {
          "base_uri": "https://localhost:8080/",
          "height": 262,
          "referenced_widgets": [
            "fed0dc4ed137436589ad4cedd5b3281c",
            "4d804704b2664e7a8bfa36d17da08aae",
            "4ee134ef8d3e4b609656fceec2bc606a",
            "d79d227ac5ff4200b23ab2e3419da3a7",
            "147f10ea3427463eb92b7119463ed58b",
            "f4deb75259aa4718aa9238bb04f40edf",
            "c879865c2dbb4761be5e483bf281c2a5",
            "d788967a8c544ea99511d7a302661c83",
            "fa5ec1f8ae2f42d8965a507a48cc6963",
            "743491602fd249efa32148e8e30cf792",
            "7f5dea50d9494e77aa87f595ba2e63a1",
            "df25ee5de35f40f5a8f11ecc3fab1c1e",
            "4324086a9ce3457f9f7da89fdf10ec68",
            "cf07251cbda6416fbe8c90e3d8afd44e",
            "936760c4dd60461b982de162c6754d9f",
            "92c63eb8613345b5b74c672f52ffb39a",
            "b0e1b8f2d9914e2395d100f7acb04571",
            "ea4da68b004940f6833dfbd4789c3f12",
            "a4c02dadb0634d15924aa63eaa36bf90",
            "6a7a4fca84f94b248fefb18e247f5002",
            "0f4a78d218084bea854d1056cf41a711",
            "b6a7fc7b43334e209245e36d10a40294",
            "c9150b5d34944e239141dfb878780396",
            "942c0403a3924928bab24d0d0d217698",
            "9a5fcbc8ab2546b39dd857cbc5b05589",
            "0a2b16341b08491ab6c20cc9bf760d36",
            "b999539dc8574467a2de21b11061adb2",
            "b035ee334acf4143b3a83956c3c16a77",
            "443140368542481ba710a6014b56d75a",
            "9df7b17252bb49d99526e1ca313c5f7f",
            "536c07f783514067b4cd5efc565e710d",
            "16d0a9d8601446a5bd6f2db052fb7043",
            "6dac9cc594554d97a6b68b6f312268ad",
            "9c04b06a9a36410aa3f2d2a97eb2175a",
            "8076aa3731d74f1a9c2aa9e61e66bedd",
            "24587bf3a2ca4310af177aa256e30995",
            "204f2026cd9c46e3bb09378a9ddfa7da",
            "186447fd1afa47858832f47f720367c3",
            "9b938baa4c8a46f899c632cd15b025e4",
            "16518c1ceaae4872978707af1616f416"
          ]
        }
      },
      "source": [
        "#@title Import BERT from HuggingFace\n",
        "# For DistilBERT:\n",
        "model_class, tokenizer_class, pretrained_weights = (ppb.DistilBertModel, ppb.DistilBertTokenizer, 'distilbert-base-uncased')\n",
        "\n",
        "## Want BERT instead of distilBERT? Uncomment the following line:\n",
        "#model_class, tokenizer_class, pretrained_weights = (ppb.BertModel, ppb.BertTokenizer, 'bert-base-uncased')\n",
        "\n",
        "# Load pretrained model/tokenizer\n",
        "tokenizer = tokenizer_class.from_pretrained(pretrained_weights)\n",
        "model = model_class.from_pretrained(pretrained_weights)"
      ],
      "execution_count": 12,
      "outputs": [
        {
          "output_type": "display_data",
          "data": {
            "application/vnd.jupyter.widget-view+json": {
              "model_id": "fed0dc4ed137436589ad4cedd5b3281c",
              "version_minor": 0,
              "version_major": 2
            },
            "text/plain": [
              "HBox(children=(FloatProgress(value=0.0, description='Downloading', max=231508.0, style=ProgressStyle(descripti…"
            ]
          },
          "metadata": {
            "tags": []
          }
        },
        {
          "output_type": "stream",
          "text": [
            "\n"
          ],
          "name": "stdout"
        },
        {
          "output_type": "display_data",
          "data": {
            "application/vnd.jupyter.widget-view+json": {
              "model_id": "fa5ec1f8ae2f42d8965a507a48cc6963",
              "version_minor": 0,
              "version_major": 2
            },
            "text/plain": [
              "HBox(children=(FloatProgress(value=0.0, description='Downloading', max=28.0, style=ProgressStyle(description_w…"
            ]
          },
          "metadata": {
            "tags": []
          }
        },
        {
          "output_type": "stream",
          "text": [
            "\n"
          ],
          "name": "stdout"
        },
        {
          "output_type": "display_data",
          "data": {
            "application/vnd.jupyter.widget-view+json": {
              "model_id": "b0e1b8f2d9914e2395d100f7acb04571",
              "version_minor": 0,
              "version_major": 2
            },
            "text/plain": [
              "HBox(children=(FloatProgress(value=0.0, description='Downloading', max=466062.0, style=ProgressStyle(descripti…"
            ]
          },
          "metadata": {
            "tags": []
          }
        },
        {
          "output_type": "stream",
          "text": [
            "\n"
          ],
          "name": "stdout"
        },
        {
          "output_type": "display_data",
          "data": {
            "application/vnd.jupyter.widget-view+json": {
              "model_id": "9a5fcbc8ab2546b39dd857cbc5b05589",
              "version_minor": 0,
              "version_major": 2
            },
            "text/plain": [
              "HBox(children=(FloatProgress(value=0.0, description='Downloading', max=442.0, style=ProgressStyle(description_…"
            ]
          },
          "metadata": {
            "tags": []
          }
        },
        {
          "output_type": "stream",
          "text": [
            "\n"
          ],
          "name": "stdout"
        },
        {
          "output_type": "display_data",
          "data": {
            "application/vnd.jupyter.widget-view+json": {
              "model_id": "6dac9cc594554d97a6b68b6f312268ad",
              "version_minor": 0,
              "version_major": 2
            },
            "text/plain": [
              "HBox(children=(FloatProgress(value=0.0, description='Downloading', max=267967963.0, style=ProgressStyle(descri…"
            ]
          },
          "metadata": {
            "tags": []
          }
        },
        {
          "output_type": "stream",
          "text": [
            "\n"
          ],
          "name": "stdout"
        }
      ]
    },
    {
      "cell_type": "code",
      "metadata": {
        "id": "lHJITz2st99a",
        "outputId": "231c8472-7e8c-4e19-e5a2-e616a0a01eff",
        "colab": {
          "base_uri": "https://localhost:8080/"
        }
      },
      "source": [
        "#@title Preparing the dataset\n",
        "profit_df_batch_1 = profit_df[:2000]\n",
        "profit_df_batch_1['Label'].value_counts()"
      ],
      "execution_count": 15,
      "outputs": [
        {
          "output_type": "execute_result",
          "data": {
            "text/plain": [
              "0.0    1849\n",
              "1.0     151\n",
              "Name: Label, dtype: int64"
            ]
          },
          "metadata": {
            "tags": []
          },
          "execution_count": 15
        }
      ]
    },
    {
      "cell_type": "code",
      "metadata": {
        "id": "NK3iQFmcwkT-",
        "outputId": "8e23d3b9-5d96-4e84-aee8-3992449a8c89",
        "colab": {
          "base_uri": "https://localhost:8080/"
        }
      },
      "source": [
        "QuarterlyResults_df_batch_1 = QuarterlyResults_df[:2000]\n",
        "QuarterlyResults_df_batch_1['Label'].value_counts()"
      ],
      "execution_count": 16,
      "outputs": [
        {
          "output_type": "execute_result",
          "data": {
            "text/plain": [
              "0.0    1943\n",
              "1.0      57\n",
              "Name: Label, dtype: int64"
            ]
          },
          "metadata": {
            "tags": []
          },
          "execution_count": 16
        }
      ]
    },
    {
      "cell_type": "code",
      "metadata": {
        "id": "Y444oMDBMEXv",
        "outputId": "12d607d6-705e-424a-94be-229713efa927",
        "colab": {
          "base_uri": "https://localhost:8080/"
        }
      },
      "source": [
        "BuyRating_df_batch_1 = BuyRating_df[:2000]\n",
        "BuyRating_df_batch_1['Label'].value_counts()"
      ],
      "execution_count": 17,
      "outputs": [
        {
          "output_type": "execute_result",
          "data": {
            "text/plain": [
              "0.0    1945\n",
              "1.0      55\n",
              "Name: Label, dtype: int64"
            ]
          },
          "metadata": {
            "tags": []
          },
          "execution_count": 17
        }
      ]
    },
    {
      "cell_type": "code",
      "metadata": {
        "id": "AyHM169EMU2N",
        "outputId": "7626cfdd-32da-4059-95c2-f350a5d7a03f",
        "colab": {
          "base_uri": "https://localhost:8080/"
        }
      },
      "source": [
        "Debt_df_batch_1 = Debt_df[:2000]\n",
        "Debt_df_batch_1['Label'].value_counts()\n"
      ],
      "execution_count": 18,
      "outputs": [
        {
          "output_type": "execute_result",
          "data": {
            "text/plain": [
              "0.0    1988\n",
              "1.0      12\n",
              "Name: Label, dtype: int64"
            ]
          },
          "metadata": {
            "tags": []
          },
          "execution_count": 18
        }
      ]
    },
    {
      "cell_type": "code",
      "metadata": {
        "id": "6npW2tFlMW1t",
        "outputId": "37df94f7-7d03-4652-9e74-1b0e7755e8e6",
        "colab": {
          "base_uri": "https://localhost:8080/"
        }
      },
      "source": [
        "Dividend_df_batch_1 = Dividend_df[:2000]\n",
        "Dividend_df_batch_1['Label'].value_counts()"
      ],
      "execution_count": 19,
      "outputs": [
        {
          "output_type": "execute_result",
          "data": {
            "text/plain": [
              "0.0    1962\n",
              "1.0      38\n",
              "Name: Label, dtype: int64"
            ]
          },
          "metadata": {
            "tags": []
          },
          "execution_count": 19
        }
      ]
    },
    {
      "cell_type": "code",
      "metadata": {
        "id": "gq-WF77YMZY4",
        "outputId": "35019780-3c09-4f39-dbf2-6c898aee0cbd",
        "colab": {
          "base_uri": "https://localhost:8080/"
        }
      },
      "source": [
        "SalesVolume_df_batch_1 = SalesVolume_df[:2000]\n",
        "SalesVolume_df_batch_1['Label'].value_counts()"
      ],
      "execution_count": 20,
      "outputs": [
        {
          "output_type": "execute_result",
          "data": {
            "text/plain": [
              "0.0    1914\n",
              "1.0      86\n",
              "Name: Label, dtype: int64"
            ]
          },
          "metadata": {
            "tags": []
          },
          "execution_count": 20
        }
      ]
    },
    {
      "cell_type": "code",
      "metadata": {
        "id": "7oO43EGMMbr5",
        "outputId": "566b133f-9ced-478a-f18c-8a621f8602b0",
        "colab": {
          "base_uri": "https://localhost:8080/"
        }
      },
      "source": [
        "Turnover_df_batch_1 = Turnover_df[:2000]\n",
        "Turnover_df_batch_1['Label'].value_counts()"
      ],
      "execution_count": 21,
      "outputs": [
        {
          "output_type": "execute_result",
          "data": {
            "text/plain": [
              "0.0    1951\n",
              "1.0      49\n",
              "Name: Label, dtype: int64"
            ]
          },
          "metadata": {
            "tags": []
          },
          "execution_count": 21
        }
      ]
    },
    {
      "cell_type": "code",
      "metadata": {
        "id": "79Dyea2YMd0N",
        "outputId": "feb94fd2-eeda-4865-d3ad-3ddbba1ac8d4",
        "colab": {
          "base_uri": "https://localhost:8080/"
        }
      },
      "source": [
        "MergerAcquisition_df_batch_1 = MergerAcquisition_df[:2000]\n",
        "MergerAcquisition_df_batch_1['Label'].value_counts()"
      ],
      "execution_count": 22,
      "outputs": [
        {
          "output_type": "execute_result",
          "data": {
            "text/plain": [
              "0.0    1951\n",
              "1.0      49\n",
              "Name: Label, dtype: int64"
            ]
          },
          "metadata": {
            "tags": []
          },
          "execution_count": 22
        }
      ]
    },
    {
      "cell_type": "code",
      "metadata": {
        "id": "pkCtPS0uMgEh",
        "outputId": "77565b65-58f2-46d7-d556-17b8dadfa23a",
        "colab": {
          "base_uri": "https://localhost:8080/"
        }
      },
      "source": [
        "TargetPrice_df_batch_1 = TargetPrice_df[:2000]\n",
        "TargetPrice_df_batch_1['Label'].value_counts()"
      ],
      "execution_count": 23,
      "outputs": [
        {
          "output_type": "execute_result",
          "data": {
            "text/plain": [
              "0.0    1982\n",
              "1.0      18\n",
              "Name: Label, dtype: int64"
            ]
          },
          "metadata": {
            "tags": []
          },
          "execution_count": 23
        }
      ]
    },
    {
      "cell_type": "code",
      "metadata": {
        "id": "LjIO4__GMi7M",
        "outputId": "ac172442-52da-48e3-e499-14c121d80e74",
        "colab": {
          "base_uri": "https://localhost:8080/"
        }
      },
      "source": [
        "ShareRepurchase_df_batch_1 = ShareRepurchase_df[:2000]\n",
        "ShareRepurchase_df_batch_1['Label'].value_counts()"
      ],
      "execution_count": 24,
      "outputs": [
        {
          "output_type": "execute_result",
          "data": {
            "text/plain": [
              "0.0    1988\n",
              "1.0      12\n",
              "Name: Label, dtype: int64"
            ]
          },
          "metadata": {
            "tags": []
          },
          "execution_count": 24
        }
      ]
    },
    {
      "cell_type": "code",
      "metadata": {
        "id": "ukIXk0aIMlek"
      },
      "source": [
        "tokenized_profit = profit_df_batch_1['Text'].apply((lambda x: tokenizer.encode(x, add_special_tokens=True)))"
      ],
      "execution_count": 21,
      "outputs": []
    },
    {
      "cell_type": "code",
      "metadata": {
        "id": "YuFDTyFROA4s",
        "outputId": "801330ca-c303-40e7-f550-2e5c62c2b23f",
        "colab": {
          "base_uri": "https://localhost:8080/"
        }
      },
      "source": [
        "tokenized_profit"
      ],
      "execution_count": 22,
      "outputs": [
        {
          "output_type": "execute_result",
          "data": {
            "text/plain": [
              "0       [101, 2009, 2097, 2025, 2360, 2054, 2009, 2038...\n",
              "1       [101, 2909, 2198, 5416, 1010, 3472, 1010, 2409...\n",
              "2       [101, 4895, 9463, 6299, 2001, 10648, 2011, 153...\n",
              "3       [101, 2720, 18906, 2378, 1005, 1055, 4861, 223...\n",
              "4       [101, 19021, 2546, 2001, 9449, 2011, 11605, 29...\n",
              "                              ...                        \n",
              "1995    [101, 11605, 2924, 2056, 1996, 4753, 2001, 100...\n",
              "1996    [101, 2414, 4518, 3863, 1010, 2125, 1014, 1012...\n",
              "1997    [101, 1996, 2177, 2988, 2561, 4341, 2039, 1021...\n",
              "1998    [101, 1000, 2057, 2079, 2025, 2156, 1037, 6918...\n",
              "1999    [101, 1996, 2801, 2001, 2000, 24647, 6304, 202...\n",
              "Name: Text, Length: 2000, dtype: object"
            ]
          },
          "metadata": {
            "tags": []
          },
          "execution_count": 22
        }
      ]
    },
    {
      "cell_type": "code",
      "metadata": {
        "id": "1T7EGVcbOBft"
      },
      "source": [
        "max_len = 0\n",
        "for i in tokenized_profit.values:\n",
        "    if len(i) > max_len:\n",
        "        max_len = len(i)\n",
        "padded_profit = np.array([i + [0]*(max_len-len(i)) for i in tokenized_profit.values])"
      ],
      "execution_count": 23,
      "outputs": []
    },
    {
      "cell_type": "code",
      "metadata": {
        "id": "56Yra_52QIyt",
        "outputId": "3cfd80e6-f3dc-40cc-b01c-7c871642757f",
        "colab": {
          "base_uri": "https://localhost:8080/"
        }
      },
      "source": [
        "padded_profit"
      ],
      "execution_count": 24,
      "outputs": [
        {
          "output_type": "execute_result",
          "data": {
            "text/plain": [
              "array([[ 101, 2009, 2097, ...,    0,    0,    0],\n",
              "       [ 101, 2909, 2198, ...,    0,    0,    0],\n",
              "       [ 101, 4895, 9463, ...,    0,    0,    0],\n",
              "       ...,\n",
              "       [ 101, 1996, 2177, ...,    0,    0,    0],\n",
              "       [ 101, 1000, 2057, ...,    0,    0,    0],\n",
              "       [ 101, 1996, 2801, ...,    0,    0,    0]])"
            ]
          },
          "metadata": {
            "tags": []
          },
          "execution_count": 24
        }
      ]
    },
    {
      "cell_type": "code",
      "metadata": {
        "id": "3ByQQICyQZSV",
        "outputId": "4d047804-2d2d-4574-df2d-6fcf0da3d05b",
        "colab": {
          "base_uri": "https://localhost:8080/"
        }
      },
      "source": [
        "np.array(padded_profit).shape"
      ],
      "execution_count": 25,
      "outputs": [
        {
          "output_type": "execute_result",
          "data": {
            "text/plain": [
              "(2000, 80)"
            ]
          },
          "metadata": {
            "tags": []
          },
          "execution_count": 25
        }
      ]
    },
    {
      "cell_type": "code",
      "metadata": {
        "id": "3TpoUPNyQcw5",
        "outputId": "6c345559-3758-42f6-f5b9-41beec101d85",
        "colab": {
          "base_uri": "https://localhost:8080/"
        }
      },
      "source": [
        "#@title Masking padded elements \n",
        "attention_mask = np.where(padded_profit != 0, 1, 0)\n",
        "attention_mask.shape"
      ],
      "execution_count": 26,
      "outputs": [
        {
          "output_type": "execute_result",
          "data": {
            "text/plain": [
              "(2000, 80)"
            ]
          },
          "metadata": {
            "tags": []
          },
          "execution_count": 26
        }
      ]
    },
    {
      "cell_type": "code",
      "metadata": {
        "id": "9fxCMf53Qpli"
      },
      "source": [
        "input_ids = torch.tensor(padded_profit)  \n",
        "attention_mask = torch.tensor(attention_mask)\n",
        "\n",
        "with torch.no_grad():\n",
        "    last_hidden_states = model(input_ids, attention_mask=attention_mask)"
      ],
      "execution_count": 27,
      "outputs": []
    },
    {
      "cell_type": "code",
      "metadata": {
        "id": "RRBID3uIQ1yx"
      },
      "source": [
        "features = last_hidden_states[0][:,0,:].numpy()"
      ],
      "execution_count": 28,
      "outputs": []
    },
    {
      "cell_type": "code",
      "metadata": {
        "id": "sJ18_vaEVKiJ",
        "outputId": "71e10465-a0f2-4716-91bd-193114b5efb2",
        "colab": {
          "base_uri": "https://localhost:8080/"
        }
      },
      "source": [
        "features.shape"
      ],
      "execution_count": 29,
      "outputs": [
        {
          "output_type": "execute_result",
          "data": {
            "text/plain": [
              "(2000, 768)"
            ]
          },
          "metadata": {
            "tags": []
          },
          "execution_count": 29
        }
      ]
    },
    {
      "cell_type": "code",
      "metadata": {
        "id": "-nZ8scNDVMdg"
      },
      "source": [
        "labels = profit_df_batch_1['Label']"
      ],
      "execution_count": 30,
      "outputs": []
    },
    {
      "cell_type": "code",
      "metadata": {
        "id": "CCvHJb0DVaJs"
      },
      "source": [
        "train_features, test_features, train_labels, test_labels = train_test_split(features, labels)"
      ],
      "execution_count": 31,
      "outputs": []
    },
    {
      "cell_type": "code",
      "metadata": {
        "id": "GEC8IrslVbHa",
        "outputId": "b86b8088-82e8-4c3b-bb45-041ff193c74e",
        "colab": {
          "base_uri": "https://localhost:8080/"
        }
      },
      "source": [
        "lr_clf = LogisticRegression()\n",
        "lr_clf.fit(train_features, train_labels)"
      ],
      "execution_count": 32,
      "outputs": [
        {
          "output_type": "execute_result",
          "data": {
            "text/plain": [
              "LogisticRegression(C=1.0, class_weight=None, dual=False, fit_intercept=True,\n",
              "                   intercept_scaling=1, l1_ratio=None, max_iter=100,\n",
              "                   multi_class='auto', n_jobs=None, penalty='l2',\n",
              "                   random_state=None, solver='lbfgs', tol=0.0001, verbose=0,\n",
              "                   warm_start=False)"
            ]
          },
          "metadata": {
            "tags": []
          },
          "execution_count": 32
        }
      ]
    },
    {
      "cell_type": "code",
      "metadata": {
        "id": "VrcbAA_tVi8E",
        "outputId": "771acc29-0ec5-416d-b097-23830fecaea6",
        "colab": {
          "base_uri": "https://localhost:8080/"
        }
      },
      "source": [
        "lr_clf.score(test_features, test_labels)"
      ],
      "execution_count": 33,
      "outputs": [
        {
          "output_type": "execute_result",
          "data": {
            "text/plain": [
              "0.936"
            ]
          },
          "metadata": {
            "tags": []
          },
          "execution_count": 33
        }
      ]
    },
    {
      "cell_type": "code",
      "metadata": {
        "id": "scENN7QdVp-0",
        "outputId": "31aa42c9-cf2e-4ba1-a85a-58a606d58195",
        "colab": {
          "base_uri": "https://localhost:8080/"
        }
      },
      "source": [
        "from sklearn.dummy import DummyClassifier\n",
        "clf = DummyClassifier()\n",
        "\n",
        "scores = cross_val_score(clf, train_features, train_labels)\n",
        "print(\"Dummy classifier score: %0.3f (+/- %0.2f)\" % (scores.mean(), scores.std() * 2))"
      ],
      "execution_count": 34,
      "outputs": [
        {
          "output_type": "stream",
          "text": [
            "Dummy classifier score: 0.867 (+/- 0.02)\n"
          ],
          "name": "stdout"
        }
      ]
    },
    {
      "cell_type": "code",
      "metadata": {
        "id": "3jKxO4gEV6mN",
        "outputId": "35d6e3e0-b902-4b42-8fa5-664c93190df8",
        "colab": {
          "base_uri": "https://localhost:8080/"
        }
      },
      "source": [
        "profit_df_batch_1 = profit_df[:2000]\n",
        "profit_df_batch_1['Label'].value_counts()"
      ],
      "execution_count": 35,
      "outputs": [
        {
          "output_type": "execute_result",
          "data": {
            "text/plain": [
              "0.0    1849\n",
              "1.0     151\n",
              "Name: Label, dtype: int64"
            ]
          },
          "metadata": {
            "tags": []
          },
          "execution_count": 35
        }
      ]
    },
    {
      "cell_type": "code",
      "metadata": {
        "id": "hYyOn8pcW0Vr",
        "outputId": "e06dd8d5-55bc-4fc8-c7f3-50f1573789d1",
        "colab": {
          "base_uri": "https://localhost:8080/"
        }
      },
      "source": [
        "profit_df['Label'].value_counts()"
      ],
      "execution_count": 36,
      "outputs": [
        {
          "output_type": "execute_result",
          "data": {
            "text/plain": [
              "0.0    9286\n",
              "1.0     651\n",
              "Name: Label, dtype: int64"
            ]
          },
          "metadata": {
            "tags": []
          },
          "execution_count": 36
        }
      ]
    },
    {
      "cell_type": "code",
      "metadata": {
        "id": "Y3ZkHEwbW40a",
        "outputId": "46f49f10-0c9e-40fa-fbe3-6c5376e5f4c1",
        "colab": {
          "base_uri": "https://localhost:8080/",
          "height": 248
        }
      },
      "source": [
        "tokenized_QuarterlyResults = QuarterlyResults_df_batch_1['Text'].apply((lambda x: tokenizer.encode(x, add_special_tokens=True)))\n",
        "max_len = 0\n",
        "for i in tokenized_QuarterlyResults.values:\n",
        "    if len(i) > max_len:\n",
        "        max_len = len(i)\n",
        "padded_QuarterlyResults= np.array([i + [0]*(max_len-len(i)) for i in tokenized_QuarterlyResults.values])\n",
        "#@title Masking padded elements \n",
        "attention_mask = np.where(padded_QuarterlyResults != 0, 1, 0)\n",
        "attention_mask.shape\n",
        "input_ids = torch.tensor(padded_QuarterlyResults)  \n",
        "attention_mask = torch.tensor(attention_mask)\n",
        "\n",
        "with torch.no_grad():\n",
        "    last_hidden_states = model(input_ids, attention_mask=attention_mask)\n",
        "features = last_hidden_states[0][:,0,:].numpy()\n",
        "labels = QuarterlyResults_df_batch_1['Label']\n",
        "train_features, test_features, train_labels, test_labels = train_test_split(features, labels)\n",
        "lr_clf = LogisticRegression()\n",
        "lr_clf.fit(train_features, train_labels)\n",
        "print(lr_clf.score(test_features, test_labels))\n"
      ],
      "execution_count": 14,
      "outputs": [
        {
          "output_type": "error",
          "ename": "NameError",
          "evalue": "ignored",
          "traceback": [
            "\u001b[0;31m---------------------------------------------------------------------------\u001b[0m",
            "\u001b[0;31mNameError\u001b[0m                                 Traceback (most recent call last)",
            "\u001b[0;32m<ipython-input-14-a509f1f9e947>\u001b[0m in \u001b[0;36m<module>\u001b[0;34m()\u001b[0m\n\u001b[0;32m----> 1\u001b[0;31m \u001b[0mtokenized_QuarterlyResults\u001b[0m \u001b[0;34m=\u001b[0m \u001b[0mQuarterlyResults_df_batch_1\u001b[0m\u001b[0;34m[\u001b[0m\u001b[0;34m'Text'\u001b[0m\u001b[0;34m]\u001b[0m\u001b[0;34m.\u001b[0m\u001b[0mapply\u001b[0m\u001b[0;34m(\u001b[0m\u001b[0;34m(\u001b[0m\u001b[0;32mlambda\u001b[0m \u001b[0mx\u001b[0m\u001b[0;34m:\u001b[0m \u001b[0mtokenizer\u001b[0m\u001b[0;34m.\u001b[0m\u001b[0mencode\u001b[0m\u001b[0;34m(\u001b[0m\u001b[0mx\u001b[0m\u001b[0;34m,\u001b[0m \u001b[0madd_special_tokens\u001b[0m\u001b[0;34m=\u001b[0m\u001b[0;32mTrue\u001b[0m\u001b[0;34m)\u001b[0m\u001b[0;34m)\u001b[0m\u001b[0;34m)\u001b[0m\u001b[0;34m\u001b[0m\u001b[0;34m\u001b[0m\u001b[0m\n\u001b[0m\u001b[1;32m      2\u001b[0m \u001b[0mmax_len\u001b[0m \u001b[0;34m=\u001b[0m \u001b[0;36m0\u001b[0m\u001b[0;34m\u001b[0m\u001b[0;34m\u001b[0m\u001b[0m\n\u001b[1;32m      3\u001b[0m \u001b[0;32mfor\u001b[0m \u001b[0mi\u001b[0m \u001b[0;32min\u001b[0m \u001b[0mtokenized_QuarterlyResults\u001b[0m\u001b[0;34m.\u001b[0m\u001b[0mvalues\u001b[0m\u001b[0;34m:\u001b[0m\u001b[0;34m\u001b[0m\u001b[0;34m\u001b[0m\u001b[0m\n\u001b[1;32m      4\u001b[0m     \u001b[0;32mif\u001b[0m \u001b[0mlen\u001b[0m\u001b[0;34m(\u001b[0m\u001b[0mi\u001b[0m\u001b[0;34m)\u001b[0m \u001b[0;34m>\u001b[0m \u001b[0mmax_len\u001b[0m\u001b[0;34m:\u001b[0m\u001b[0;34m\u001b[0m\u001b[0;34m\u001b[0m\u001b[0m\n\u001b[1;32m      5\u001b[0m         \u001b[0mmax_len\u001b[0m \u001b[0;34m=\u001b[0m \u001b[0mlen\u001b[0m\u001b[0;34m(\u001b[0m\u001b[0mi\u001b[0m\u001b[0;34m)\u001b[0m\u001b[0;34m\u001b[0m\u001b[0;34m\u001b[0m\u001b[0m\n",
            "\u001b[0;31mNameError\u001b[0m: name 'QuarterlyResults_df_batch_1' is not defined"
          ]
        }
      ]
    },
    {
      "cell_type": "code",
      "metadata": {
        "id": "BixR0APecQJm",
        "outputId": "66887e4e-836d-43f1-f25b-fffcbbca5ada",
        "colab": {
          "base_uri": "https://localhost:8080/"
        }
      },
      "source": [
        "from sklearn.dummy import DummyClassifier\n",
        "clf = DummyClassifier()\n",
        "\n",
        "scores = cross_val_score(clf, train_features, train_labels)\n",
        "print(\"Dummy classifier score: %0.3f (+/- %0.2f)\" % (scores.mean(), scores.std() * 2))"
      ],
      "execution_count": 38,
      "outputs": [
        {
          "output_type": "stream",
          "text": [
            "Dummy classifier score: 0.946 (+/- 0.01)\n"
          ],
          "name": "stdout"
        }
      ]
    },
    {
      "cell_type": "code",
      "metadata": {
        "id": "GgoODgX6cRFl",
        "outputId": "05d9f45b-c10c-4f92-fae3-262a7c0f3016",
        "colab": {
          "base_uri": "https://localhost:8080/"
        }
      },
      "source": [
        "tokenized_BuyRating = BuyRating_df_batch_1['Text'].apply((lambda x: tokenizer.encode(x, add_special_tokens=True)))\n",
        "max_len = 0\n",
        "for i in tokenized_BuyRating.values:\n",
        "    if len(i) > max_len:\n",
        "        max_len = len(i)\n",
        "padded_BuyRating= np.array([i + [0]*(max_len-len(i)) for i in tokenized_BuyRating.values])\n",
        "#@title Masking padded elements \n",
        "attention_mask = np.where(padded_BuyRating != 0, 1, 0)\n",
        "attention_mask.shape\n",
        "input_ids = torch.tensor(padded_BuyRating)  \n",
        "attention_mask = torch.tensor(attention_mask)\n",
        "\n",
        "with torch.no_grad():\n",
        "    last_hidden_states = model(input_ids, attention_mask=attention_mask)\n",
        "features = last_hidden_states[0][:,0,:].numpy()\n",
        "labels = BuyRating_df_batch_1['Label']\n",
        "train_features, test_features, train_labels, test_labels = train_test_split(features, labels)\n",
        "lr_clf = LogisticRegression()\n",
        "lr_clf.fit(train_features, train_labels)\n",
        "print(lr_clf.score(test_features, test_labels))"
      ],
      "execution_count": 39,
      "outputs": [
        {
          "output_type": "stream",
          "text": [
            "0.976\n"
          ],
          "name": "stdout"
        }
      ]
    },
    {
      "cell_type": "code",
      "metadata": {
        "id": "ER2fm3Ho2PtM",
        "outputId": "dfd13347-c129-4b80-e643-d4ee4bb8859d",
        "colab": {
          "base_uri": "https://localhost:8080/"
        }
      },
      "source": [
        "from sklearn.dummy import DummyClassifier\n",
        "clf = DummyClassifier()\n",
        "\n",
        "scores = cross_val_score(clf, train_features, train_labels)\n",
        "print(\"Dummy classifier score: %0.3f (+/- %0.2f)\" % (scores.mean(), scores.std() * 2))"
      ],
      "execution_count": 40,
      "outputs": [
        {
          "output_type": "stream",
          "text": [
            "Dummy classifier score: 0.950 (+/- 0.02)\n"
          ],
          "name": "stdout"
        }
      ]
    },
    {
      "cell_type": "code",
      "metadata": {
        "id": "3BlRsdbJ2fUf",
        "outputId": "b67bac58-2f73-4bb0-c175-5cf502bf9aa8",
        "colab": {
          "base_uri": "https://localhost:8080/"
        }
      },
      "source": [
        "tokenized_Debt = Debt_df_batch_1['Text'].apply((lambda x: tokenizer.encode(x, add_special_tokens=True)))\n",
        "max_len = 0\n",
        "for i in tokenized_Debt.values:\n",
        "    if len(i) > max_len:\n",
        "        max_len = len(i)\n",
        "padded_Debt= np.array([i + [0]*(max_len-len(i)) for i in tokenized_Debt.values])\n",
        "#@title Masking padded elements \n",
        "attention_mask = np.where(padded_Debt != 0, 1, 0)\n",
        "attention_mask.shape\n",
        "input_ids = torch.tensor(padded_Debt)  \n",
        "attention_mask = torch.tensor(attention_mask)\n",
        "\n",
        "with torch.no_grad():\n",
        "    last_hidden_states = model(input_ids, attention_mask=attention_mask)\n",
        "features = last_hidden_states[0][:,0,:].numpy()\n",
        "labels = Debt_df_batch_1['Label']\n",
        "train_features, test_features, train_labels, test_labels = train_test_split(features, labels)\n",
        "lr_clf = LogisticRegression()\n",
        "lr_clf.fit(train_features, train_labels)\n",
        "print(lr_clf.score(test_features, test_labels))"
      ],
      "execution_count": 41,
      "outputs": [
        {
          "output_type": "stream",
          "text": [
            "0.992\n"
          ],
          "name": "stdout"
        }
      ]
    },
    {
      "cell_type": "code",
      "metadata": {
        "id": "PuHbLlxw2hVB",
        "outputId": "f6fca3c0-4533-49dd-86d3-89a129f8be24",
        "colab": {
          "base_uri": "https://localhost:8080/"
        }
      },
      "source": [
        "from sklearn.dummy import DummyClassifier\n",
        "clf = DummyClassifier()\n",
        "\n",
        "scores = cross_val_score(clf, train_features, train_labels)\n",
        "print(\"Dummy classifier score: %0.3f (+/- %0.2f)\" % (scores.mean(), scores.std() * 2))"
      ],
      "execution_count": 42,
      "outputs": [
        {
          "output_type": "stream",
          "text": [
            "Dummy classifier score: 0.990 (+/- 0.01)\n"
          ],
          "name": "stdout"
        }
      ]
    },
    {
      "cell_type": "code",
      "metadata": {
        "id": "c3sxEzcy28Mo",
        "outputId": "29a93432-3158-4750-aa0d-4c5b676011f2",
        "colab": {
          "base_uri": "https://localhost:8080/"
        }
      },
      "source": [
        "tokenized_Dividend = Dividend_df_batch_1['Text'].apply((lambda x: tokenizer.encode(x, add_special_tokens=True)))\n",
        "max_len = 0\n",
        "for i in tokenized_Dividend.values:\n",
        "    if len(i) > max_len:\n",
        "        max_len = len(i)\n",
        "padded_Dividend= np.array([i + [0]*(max_len-len(i)) for i in tokenized_Dividend.values])\n",
        "#@title Masking padded elements \n",
        "attention_mask = np.where(padded_Dividend != 0, 1, 0)\n",
        "attention_mask.shape\n",
        "input_ids = torch.tensor(padded_Dividend)  \n",
        "attention_mask = torch.tensor(attention_mask)\n",
        "\n",
        "with torch.no_grad():\n",
        "    last_hidden_states = model(input_ids, attention_mask=attention_mask)\n",
        "features = last_hidden_states[0][:,0,:].numpy()\n",
        "labels = Dividend_df_batch_1['Label']\n",
        "train_features, test_features, train_labels, test_labels = train_test_split(features, labels)\n",
        "lr_clf = LogisticRegression()\n",
        "lr_clf.fit(train_features, train_labels)\n",
        "print(lr_clf.score(test_features, test_labels))"
      ],
      "execution_count": 43,
      "outputs": [
        {
          "output_type": "stream",
          "text": [
            "0.978\n"
          ],
          "name": "stdout"
        }
      ]
    },
    {
      "cell_type": "code",
      "metadata": {
        "id": "8NbAvdfg2_kD",
        "outputId": "3e0de60f-3411-4dec-ec10-9e015e835a71",
        "colab": {
          "base_uri": "https://localhost:8080/"
        }
      },
      "source": [
        "from sklearn.dummy import DummyClassifier\n",
        "clf = DummyClassifier()\n",
        "\n",
        "scores = cross_val_score(clf, train_features, train_labels)\n",
        "print(\"Dummy classifier score: %0.3f (+/- %0.2f)\" % (scores.mean(), scores.std() * 2))"
      ],
      "execution_count": 44,
      "outputs": [
        {
          "output_type": "stream",
          "text": [
            "Dummy classifier score: 0.969 (+/- 0.01)\n"
          ],
          "name": "stdout"
        }
      ]
    },
    {
      "cell_type": "code",
      "metadata": {
        "id": "r-pTVujf3hHj",
        "outputId": "24989693-412d-47a1-900c-0cce712afc90",
        "colab": {
          "base_uri": "https://localhost:8080/"
        }
      },
      "source": [
        "tokenized_SalesVolume = SalesVolume_df_batch_1['Text'].apply((lambda x: tokenizer.encode(x, add_special_tokens=True)))\n",
        "max_len = 0\n",
        "for i in tokenized_SalesVolume.values:\n",
        "    if len(i) > max_len:\n",
        "        max_len = len(i)\n",
        "padded_SalesVolume= np.array([i + [0]*(max_len-len(i)) for i in tokenized_SalesVolume.values])\n",
        "#@title Masking padded elements \n",
        "attention_mask = np.where(padded_SalesVolume != 0, 1, 0)\n",
        "attention_mask.shape\n",
        "input_ids = torch.tensor(padded_SalesVolume)  \n",
        "attention_mask = torch.tensor(attention_mask)\n",
        "\n",
        "with torch.no_grad():\n",
        "    last_hidden_states = model(input_ids, attention_mask=attention_mask)\n",
        "features = last_hidden_states[0][:,0,:].numpy()\n",
        "labels = SalesVolume_df_batch_1['Label']\n",
        "train_features, test_features, train_labels, test_labels = train_test_split(features, labels)\n",
        "lr_clf = LogisticRegression()\n",
        "lr_clf.fit(train_features, train_labels)\n",
        "print(lr_clf.score(test_features, test_labels))"
      ],
      "execution_count": 45,
      "outputs": [
        {
          "output_type": "stream",
          "text": [
            "0.97\n"
          ],
          "name": "stdout"
        }
      ]
    },
    {
      "cell_type": "code",
      "metadata": {
        "id": "J7NK7XAV306x",
        "outputId": "1edb381e-0bfb-42e2-eec6-e25d6fce37cc",
        "colab": {
          "base_uri": "https://localhost:8080/"
        }
      },
      "source": [
        "from sklearn.dummy import DummyClassifier\n",
        "clf = DummyClassifier()\n",
        "\n",
        "scores = cross_val_score(clf, train_features, train_labels)\n",
        "print(\"Dummy classifier score: %0.3f (+/- %0.2f)\" % (scores.mean(), scores.std() * 2))"
      ],
      "execution_count": 46,
      "outputs": [
        {
          "output_type": "stream",
          "text": [
            "Dummy classifier score: 0.910 (+/- 0.03)\n"
          ],
          "name": "stdout"
        }
      ]
    },
    {
      "cell_type": "code",
      "metadata": {
        "id": "-OUFZOQm4Iu8",
        "outputId": "1aa6b347-334f-4c91-c45c-435682ff9b1b",
        "colab": {
          "base_uri": "https://localhost:8080/"
        }
      },
      "source": [
        "tokenized_Turnover = Turnover_df_batch_1['Text'].apply((lambda x: tokenizer.encode(x, add_special_tokens=True)))\n",
        "max_len = 0\n",
        "for i in tokenized_Turnover.values:\n",
        "    if len(i) > max_len:\n",
        "        max_len = len(i)\n",
        "padded_Turnover= np.array([i + [0]*(max_len-len(i)) for i in tokenized_Turnover.values])\n",
        "#@title Masking padded elements \n",
        "attention_mask = np.where(padded_Turnover != 0, 1, 0)\n",
        "attention_mask.shape\n",
        "input_ids = torch.tensor(padded_Turnover)  \n",
        "attention_mask = torch.tensor(attention_mask)\n",
        "\n",
        "with torch.no_grad():\n",
        "    last_hidden_states = model(input_ids, attention_mask=attention_mask)\n",
        "features = last_hidden_states[0][:,0,:].numpy()\n",
        "labels = Turnover_df_batch_1['Label']\n",
        "train_features, test_features, train_labels, test_labels = train_test_split(features, labels)\n",
        "lr_clf = LogisticRegression()\n",
        "lr_clf.fit(train_features, train_labels)\n",
        "print(lr_clf.score(test_features, test_labels))"
      ],
      "execution_count": 47,
      "outputs": [
        {
          "output_type": "stream",
          "text": [
            "0.97\n"
          ],
          "name": "stdout"
        }
      ]
    },
    {
      "cell_type": "code",
      "metadata": {
        "id": "pTpRwk414Yjx",
        "outputId": "af9e0e6d-e4fa-411d-d546-f14d2c586bfb",
        "colab": {
          "base_uri": "https://localhost:8080/"
        }
      },
      "source": [
        "from sklearn.dummy import DummyClassifier\n",
        "clf = DummyClassifier()\n",
        "\n",
        "scores = cross_val_score(clf, train_features, train_labels)\n",
        "print(\"Dummy classifier score: %0.3f (+/- %0.2f)\" % (scores.mean(), scores.std() * 2))"
      ],
      "execution_count": 48,
      "outputs": [
        {
          "output_type": "stream",
          "text": [
            "Dummy classifier score: 0.949 (+/- 0.01)\n"
          ],
          "name": "stdout"
        }
      ]
    },
    {
      "cell_type": "code",
      "metadata": {
        "id": "BVUmaZ0_4Zdi",
        "outputId": "6b16d820-a141-4f72-a379-69b80a866c5c",
        "colab": {
          "base_uri": "https://localhost:8080/"
        }
      },
      "source": [
        "tokenized_MergerAcquisition = MergerAcquisition_df_batch_1['Text'].apply((lambda x: tokenizer.encode(x, add_special_tokens=True)))\n",
        "max_len = 0\n",
        "for i in tokenized_MergerAcquisition.values:\n",
        "    if len(i) > max_len:\n",
        "        max_len = len(i)\n",
        "padded_MergerAcquisition= np.array([i + [0]*(max_len-len(i)) for i in tokenized_MergerAcquisition.values])\n",
        "#@title Masking padded elements \n",
        "attention_mask = np.where(padded_MergerAcquisition != 0, 1, 0)\n",
        "attention_mask.shape\n",
        "input_ids = torch.tensor(padded_MergerAcquisition)  \n",
        "attention_mask = torch.tensor(attention_mask)\n",
        "\n",
        "with torch.no_grad():\n",
        "    last_hidden_states = model(input_ids, attention_mask=attention_mask)\n",
        "features = last_hidden_states[0][:,0,:].numpy()\n",
        "labels = MergerAcquisition_df_batch_1['Label']\n",
        "train_features, test_features, train_labels, test_labels = train_test_split(features, labels)\n",
        "lr_clf = LogisticRegression()\n",
        "lr_clf.fit(train_features, train_labels)\n",
        "print(lr_clf.score(test_features, test_labels))"
      ],
      "execution_count": 49,
      "outputs": [
        {
          "output_type": "stream",
          "text": [
            "0.972\n"
          ],
          "name": "stdout"
        }
      ]
    },
    {
      "cell_type": "code",
      "metadata": {
        "id": "TxKR0V1A4dvq",
        "outputId": "d8235c03-86f6-4d85-9b32-4f2ab396a200",
        "colab": {
          "base_uri": "https://localhost:8080/"
        }
      },
      "source": [
        "from sklearn.dummy import DummyClassifier\n",
        "clf = DummyClassifier()\n",
        "\n",
        "scores = cross_val_score(clf, train_features, train_labels)\n",
        "print(\"Dummy classifier score: %0.3f (+/- %0.2f)\" % (scores.mean(), scores.std() * 2))"
      ],
      "execution_count": 50,
      "outputs": [
        {
          "output_type": "stream",
          "text": [
            "Dummy classifier score: 0.961 (+/- 0.02)\n"
          ],
          "name": "stdout"
        }
      ]
    },
    {
      "cell_type": "code",
      "metadata": {
        "id": "2QswVrf_47E2",
        "outputId": "44395908-a3a4-4f4d-fe0d-53f32003e695",
        "colab": {
          "base_uri": "https://localhost:8080/"
        }
      },
      "source": [
        "tokenized_TargetPrice = TargetPrice_df_batch_1['Text'].apply((lambda x: tokenizer.encode(x, add_special_tokens=True)))\n",
        "max_len = 0\n",
        "for i in tokenized_TargetPrice.values:\n",
        "    if len(i) > max_len:\n",
        "        max_len = len(i)\n",
        "padded_TargetPrice= np.array([i + [0]*(max_len-len(i)) for i in tokenized_TargetPrice.values])\n",
        "#@title Masking padded elements \n",
        "attention_mask = np.where(padded_TargetPrice != 0, 1, 0)\n",
        "attention_mask.shape\n",
        "input_ids = torch.tensor(padded_TargetPrice)  \n",
        "attention_mask = torch.tensor(attention_mask)\n",
        "\n",
        "with torch.no_grad():\n",
        "    last_hidden_states = model(input_ids, attention_mask=attention_mask)\n",
        "features = last_hidden_states[0][:,0,:].numpy()\n",
        "labels = TargetPrice_df_batch_1['Label']\n",
        "train_features, test_features, train_labels, test_labels = train_test_split(features, labels)\n",
        "lr_clf = LogisticRegression()\n",
        "lr_clf.fit(train_features, train_labels)\n",
        "print(lr_clf.score(test_features, test_labels))"
      ],
      "execution_count": 51,
      "outputs": [
        {
          "output_type": "stream",
          "text": [
            "0.992\n"
          ],
          "name": "stdout"
        }
      ]
    },
    {
      "cell_type": "code",
      "metadata": {
        "id": "efcaRmIg5RF1",
        "outputId": "d93ddfee-6008-42bb-eda9-b348b2c30023",
        "colab": {
          "base_uri": "https://localhost:8080/"
        }
      },
      "source": [
        "from sklearn.dummy import DummyClassifier\n",
        "clf = DummyClassifier()\n",
        "\n",
        "scores = cross_val_score(clf, train_features, train_labels)\n",
        "print(\"Dummy classifier score: %0.3f (+/- %0.2f)\" % (scores.mean(), scores.std() * 2))"
      ],
      "execution_count": 52,
      "outputs": [
        {
          "output_type": "stream",
          "text": [
            "Dummy classifier score: 0.983 (+/- 0.00)\n"
          ],
          "name": "stdout"
        }
      ]
    },
    {
      "cell_type": "code",
      "metadata": {
        "id": "1l2UiWil5SSo",
        "outputId": "badd00ad-70c1-4482-93e7-42c5cfb95cba",
        "colab": {
          "base_uri": "https://localhost:8080/"
        }
      },
      "source": [
        "tokenized_ShareRepurchase = ShareRepurchase_df_batch_1['Text'].apply((lambda x: tokenizer.encode(x, add_special_tokens=True)))\n",
        "max_len = 0\n",
        "for i in tokenized_ShareRepurchase.values:\n",
        "    if len(i) > max_len:\n",
        "        max_len = len(i)\n",
        "padded_ShareRepurchase= np.array([i + [0]*(max_len-len(i)) for i in tokenized_ShareRepurchase.values])\n",
        "#@title Masking padded elements \n",
        "attention_mask = np.where(padded_ShareRepurchase != 0, 1, 0)\n",
        "attention_mask.shape\n",
        "input_ids = torch.tensor(padded_ShareRepurchase)  \n",
        "attention_mask = torch.tensor(attention_mask)\n",
        "\n",
        "with torch.no_grad():\n",
        "    last_hidden_states = model(input_ids, attention_mask=attention_mask)\n",
        "features = last_hidden_states[0][:,0,:].numpy()\n",
        "labels = ShareRepurchase_df_batch_1['Label']\n",
        "train_features, test_features, train_labels, test_labels = train_test_split(features, labels)\n",
        "lr_clf = LogisticRegression()\n",
        "lr_clf.fit(train_features, train_labels)\n",
        "print(lr_clf.score(test_features, test_labels))"
      ],
      "execution_count": 11,
      "outputs": [
        {
          "output_type": "stream",
          "text": [
            "0.998\n"
          ],
          "name": "stdout"
        }
      ]
    },
    {
      "cell_type": "code",
      "metadata": {
        "id": "7d5Qrusr5wR7",
        "outputId": "b75d77ed-20c5-475c-fa1d-c1ff4a57c2a0",
        "colab": {
          "base_uri": "https://localhost:8080/"
        }
      },
      "source": [
        "from sklearn.dummy import DummyClassifier\n",
        "clf = DummyClassifier()\n",
        "\n",
        "scores = cross_val_score(clf, train_features, train_labels)\n",
        "print(\"Dummy classifier score: %0.3f (+/- %0.2f)\" % (scores.mean(), scores.std() * 2))"
      ],
      "execution_count": 54,
      "outputs": [
        {
          "output_type": "stream",
          "text": [
            "Dummy classifier score: 0.989 (+/- 0.01)\n"
          ],
          "name": "stdout"
        }
      ]
    },
    {
      "cell_type": "code",
      "metadata": {
        "id": "tw9AtTwjMvLx"
      },
      "source": [
        "def BERTembedSentence(data, tokenizer):\n",
        "  tokenized = data['Text'].apply((lambda x: tokenizer.encode(x, add_special_tokens=True)))\n",
        "  max_len = 0\n",
        "  for i in tokenized.values:\n",
        "    if len(i) > max_len:\n",
        "      max_len = len(i)\n",
        "  padded = np.array([i + [0]*(max_len-len(i)) for i in tokenized.values])\n",
        "  attention_mask = np.where(padded != 0, 1, 0)\n",
        "  input_ids = torch.tensor(padded)  \n",
        "  attention_mask = torch.tensor(attention_mask)\n",
        "  with torch.no_grad():\n",
        "    last_hidden_states = model(input_ids, attention_mask=attention_mask)\n",
        "  features = last_hidden_states[0][:,0,:].numpy()\n",
        "  labels = data['Label']\n",
        "  return(features, labels)"
      ],
      "execution_count": 25,
      "outputs": []
    },
    {
      "cell_type": "code",
      "metadata": {
        "id": "9XS1ueV6Mxcd",
        "outputId": "9007cd49-3a2d-4852-c8f4-ee9f30f8d164",
        "colab": {
          "base_uri": "https://localhost:8080/"
        }
      },
      "source": [
        "features, labels = BERTembedSentence(ShareRepurchase_df_batch_1, tokenizer)\n",
        "labels\n",
        "features"
      ],
      "execution_count": 26,
      "outputs": [
        {
          "output_type": "execute_result",
          "data": {
            "text/plain": [
              "array([[-0.12621328, -0.23826519,  0.26356655, ...,  0.18527333,\n",
              "         0.23833135,  0.43361786],\n",
              "       [-0.18598606, -0.1330147 ,  0.02525789, ...,  0.01531765,\n",
              "         0.18774836,  0.40838298],\n",
              "       [-0.02733176, -0.12236849, -0.07800321, ..., -0.06941407,\n",
              "         0.3088101 ,  0.6904435 ],\n",
              "       ...,\n",
              "       [-0.16239811, -0.19700176,  0.2515366 , ..., -0.04752159,\n",
              "         0.42372584,  0.20651266],\n",
              "       [ 0.0524352 , -0.14646558, -0.06007141, ...,  0.00241058,\n",
              "         0.29696476,  0.25563154],\n",
              "       [ 0.06571016, -0.13380173, -0.018204  , ..., -0.07853746,\n",
              "         0.20437789,  0.33497295]], dtype=float32)"
            ]
          },
          "metadata": {
            "tags": []
          },
          "execution_count": 26
        }
      ]
    },
    {
      "cell_type": "code",
      "metadata": {
        "id": "f3H9SlJTOxPb",
        "outputId": "4d97825b-4162-483c-dcbb-76fe2c1e1286",
        "colab": {
          "base_uri": "https://localhost:8080/"
        }
      },
      "source": [
        "train_features, test_features, train_labels, test_labels = train_test_split(features, labels)\n",
        "lr_clf = LogisticRegression()\n",
        "lr_clf.fit(train_features, train_labels)\n",
        "print(lr_clf.score(test_features, test_labels))"
      ],
      "execution_count": 32,
      "outputs": [
        {
          "output_type": "stream",
          "text": [
            "0.998\n"
          ],
          "name": "stdout"
        }
      ]
    },
    {
      "cell_type": "code",
      "metadata": {
        "id": "2YcUPaYePUQ-",
        "outputId": "fb591dd6-b38b-4c92-ed7d-830df809cb58",
        "colab": {
          "base_uri": "https://localhost:8080/"
        }
      },
      "source": [
        "test_features"
      ],
      "execution_count": 33,
      "outputs": [
        {
          "output_type": "execute_result",
          "data": {
            "text/plain": [
              "array([[ 0.03419941, -0.09250285,  0.09647837, ..., -0.08793031,\n",
              "         0.26457712,  0.1201782 ],\n",
              "       [-0.4313788 , -0.21317062, -0.01011679, ..., -0.05483741,\n",
              "         0.612322  ,  0.22862172],\n",
              "       [-0.18782383, -0.1588561 ,  0.11088724, ..., -0.12492155,\n",
              "         0.27815625,  0.42056513],\n",
              "       ...,\n",
              "       [-0.27599877, -0.36201295,  0.19575432, ..., -0.11181227,\n",
              "         0.5096465 ,  0.28587788],\n",
              "       [-0.31041428, -0.05389386, -0.34992507, ..., -0.1814967 ,\n",
              "         0.48965526, -0.04328017],\n",
              "       [-0.12621328, -0.23826519,  0.26356655, ...,  0.18527333,\n",
              "         0.23833135,  0.43361786]], dtype=float32)"
            ]
          },
          "metadata": {
            "tags": []
          },
          "execution_count": 33
        }
      ]
    }
  ]
}